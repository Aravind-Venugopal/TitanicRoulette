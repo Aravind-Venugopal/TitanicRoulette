{
 "cells": [
  {
   "cell_type": "code",
   "execution_count": 1,
   "metadata": {},
   "outputs": [],
   "source": [
    "import pandas as pd\n",
    "from sklearn.feature_extraction.text import CountVectorizer\n",
    "from sklearn.neighbors import NearestNeighbors\n",
    "\n",
    "import mummify"
   ]
  },
  {
   "cell_type": "code",
   "execution_count": 2,
   "metadata": {},
   "outputs": [],
   "source": [
    "df = pd.read_csv('../data/stars.csv')"
   ]
  },
  {
   "cell_type": "code",
   "execution_count": 3,
   "metadata": {},
   "outputs": [],
   "source": [
    "df = df[df['repo'] != 'maxhumber/gazpacho']\n",
    "df = df[df.language.isin(['Python', 'Jupyter Notebook'])]\n",
    "popular = pd.DataFrame(df['repo'].value_counts())\n",
    "select_repos = popular[popular['repo'] >= 5].index.tolist()\n",
    "df = df[df['repo'].isin(select_repos)]\n",
    "df = df.groupby(['user'])['repo'].apply(lambda x: ','.join(x))\n",
    "df = pd.DataFrame(df)"
   ]
  },
  {
   "cell_type": "code",
   "execution_count": 4,
   "metadata": {},
   "outputs": [],
   "source": [
    "class NNRecommender:\n",
    "\n",
    "    def __init__(self, n_neighbors=10, max_features=1000, tokenizer=lambda x: x.split(',')):\n",
    "        self.cv = CountVectorizer(tokenizer=tokenizer, max_features=max_features)\n",
    "        self.nn = NearestNeighbors(n_neighbors=n_neighbors)\n",
    "\n",
    "    def fit(self, X):\n",
    "        self.X = X\n",
    "        X = self.cv.fit_transform(X)\n",
    "        self.nn.fit(X)\n",
    "        return self\n",
    "\n",
    "    def predict(self, X):\n",
    "        Xt = self.cv.transform(X)\n",
    "        _, neighbors = self.nn.kneighbors(Xt)\n",
    "        points = []\n",
    "        for n in neighbors:\n",
    "            repos = []\n",
    "            for ni in n:\n",
    "                r = self.X.iloc[int(ni)].split(',')\n",
    "                repos.extend(r)\n",
    "            repos = list(set(repos))\n",
    "            points.append(repos)\n",
    "        return points"
   ]
  },
  {
   "cell_type": "code",
   "execution_count": 5,
   "metadata": {},
   "outputs": [
    {
     "data": {
      "text/plain": [
       "[['ytdl-org/youtube-dl',\n",
       "  'sloria/TextBlob',\n",
       "  'vinta/awesome-python',\n",
       "  'minimaxir/big-list-of-naughty-strings',\n",
       "  'PySimpleGUI/PySimpleGUI',\n",
       "  'scikit-learn/scikit-learn',\n",
       "  'donnemartin/system-design-primer',\n",
       "  'donnemartin/interactive-coding-challenges',\n",
       "  'fastai/fastai',\n",
       "  'TheAlgorithms/Python',\n",
       "  'deepfakes/faceswap',\n",
       "  'jackfrued/Python-100-Days',\n",
       "  'Avik-Jain/100-Days-Of-ML-Code',\n",
       "  'hzwer/ICCV2019-LearningToPaint']]"
      ]
     },
     "execution_count": 5,
     "metadata": {},
     "output_type": "execute_result"
    }
   ],
   "source": [
    "n_neighbors=10\n",
    "max_features=500\n",
    "\n",
    "model = NNRecommender(n_neighbors, max_features)\n",
    "model.fit(df['repo'])\n",
    "model.predict(['TheAlgorithms/Python,jackfrued/Python-100-Days,hzwer/ICCV2019-LearningToPaint,deepfakes/faceswap'])"
   ]
  },
  {
   "cell_type": "code",
   "execution_count": 6,
   "metadata": {},
   "outputs": [
    {
     "name": "stdout",
     "output_type": "stream",
     "text": [
      "\u001b[35mNothing changed, nothing logged\u001b[0m\n"
     ]
    }
   ],
   "source": [
    "mummify.log(f'n_neighbors={n_neighbors}, max_features={max_features}')"
   ]
  }
 ],
 "metadata": {
  "kernelspec": {
   "display_name": "Python 3",
   "language": "python",
   "name": "python3"
  },
  "language_info": {
   "codemirror_mode": {
    "name": "ipython",
    "version": 3
   },
   "file_extension": ".py",
   "mimetype": "text/x-python",
   "name": "python",
   "nbconvert_exporter": "python",
   "pygments_lexer": "ipython3",
   "version": "3.7.3"
  }
 },
 "nbformat": 4,
 "nbformat_minor": 2
}
