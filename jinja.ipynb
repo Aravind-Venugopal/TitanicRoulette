{
 "cells": [
  {
   "cell_type": "code",
   "execution_count": 1,
   "metadata": {},
   "outputs": [],
   "source": [
    "from IPython.core.display import HTML"
   ]
  },
  {
   "cell_type": "code",
   "execution_count": 2,
   "metadata": {},
   "outputs": [
    {
     "data": {
      "text/plain": [
       "'/Users/max/Repos/MVML'"
      ]
     },
     "execution_count": 2,
     "metadata": {},
     "output_type": "execute_result"
    }
   ],
   "source": [
    "import os; os.getcwd()"
   ]
  },
  {
   "cell_type": "code",
   "execution_count": 37,
   "metadata": {},
   "outputs": [],
   "source": [
    "from pathlib import Path\n",
    "\n",
    "Path(\"jinja/\").mkdir(parents=True, exist_ok=True)"
   ]
  },
  {
   "cell_type": "markdown",
   "metadata": {},
   "source": [
    "## f-strings"
   ]
  },
  {
   "cell_type": "code",
   "execution_count": 38,
   "metadata": {},
   "outputs": [
    {
     "data": {
      "text/plain": [
       "'Hi, my name is Max!'"
      ]
     },
     "execution_count": 38,
     "metadata": {},
     "output_type": "execute_result"
    }
   ],
   "source": [
    "name = 'Max'\n",
    "\n",
    "f'Hi, my name is {name}!'"
   ]
  },
  {
   "cell_type": "markdown",
   "metadata": {},
   "source": [
    "## Jinja2\n",
    "\n",
    "Basically f-strings... but for literally everything"
   ]
  },
  {
   "cell_type": "code",
   "execution_count": 5,
   "metadata": {},
   "outputs": [
    {
     "data": {
      "text/plain": [
       "'Max likes to eat Soup'"
      ]
     },
     "execution_count": 5,
     "metadata": {},
     "output_type": "execute_result"
    }
   ],
   "source": [
    "from jinja2 import Template\n",
    "\n",
    "t = Template(\"{{ name }} likes to eat {{ food }}\")\n",
    "\n",
    "t.render(name='Max', food='Soup')"
   ]
  },
  {
   "cell_type": "markdown",
   "metadata": {},
   "source": [
    "## Working with Files"
   ]
  },
  {
   "cell_type": "code",
   "execution_count": 6,
   "metadata": {},
   "outputs": [],
   "source": [
    "from jinja2 import Environment, FileSystemLoader"
   ]
  },
  {
   "cell_type": "code",
   "execution_count": 7,
   "metadata": {},
   "outputs": [],
   "source": [
    "env = Environment(loader=FileSystemLoader('jinja'))"
   ]
  },
  {
   "cell_type": "markdown",
   "metadata": {},
   "source": [
    "#### One variable"
   ]
  },
  {
   "cell_type": "code",
   "execution_count": 8,
   "metadata": {},
   "outputs": [
    {
     "name": "stdout",
     "output_type": "stream",
     "text": [
      "Overwriting jinja/hello.txt\n"
     ]
    }
   ],
   "source": [
    "%%writefile jinja/hello.txt\n",
    "Hello, {{ course }}!"
   ]
  },
  {
   "cell_type": "code",
   "execution_count": 9,
   "metadata": {},
   "outputs": [],
   "source": [
    "template = env.get_template('hello.txt')"
   ]
  },
  {
   "cell_type": "code",
   "execution_count": 10,
   "metadata": {},
   "outputs": [
    {
     "name": "stdout",
     "output_type": "stream",
     "text": [
      "Hello, MVML!\n"
     ]
    }
   ],
   "source": [
    "output = template.render(course='MVML')\n",
    "\n",
    "print(output)"
   ]
  },
  {
   "cell_type": "markdown",
   "metadata": {},
   "source": [
    "#### Multiple variables"
   ]
  },
  {
   "cell_type": "code",
   "execution_count": 11,
   "metadata": {},
   "outputs": [
    {
     "name": "stdout",
     "output_type": "stream",
     "text": [
      "Overwriting jinja/hello.sql\n"
     ]
    }
   ],
   "source": [
    "%%writefile jinja/hello.sql\n",
    "SELECT\n",
    "{{ columns }}\n",
    "FROM {{ table }}\n",
    "WHERE {{ condition }}"
   ]
  },
  {
   "cell_type": "code",
   "execution_count": 12,
   "metadata": {},
   "outputs": [
    {
     "name": "stdout",
     "output_type": "stream",
     "text": [
      "SELECT\n",
      "name,\n",
      "calories,\n",
      "ingredients\n",
      "FROM food\n",
      "WHERE name == \"gazpacho\"\n"
     ]
    }
   ],
   "source": [
    "template = env.get_template('hello.sql')\n",
    "\n",
    "output = template.render(\n",
    "    columns='name,\\ncalories,\\ningredients',\n",
    "    table='food',\n",
    "    condition='name == \"gazpacho\"')\n",
    "\n",
    "print(output)"
   ]
  },
  {
   "cell_type": "markdown",
   "metadata": {},
   "source": [
    "#### Dictionary variables"
   ]
  },
  {
   "cell_type": "code",
   "execution_count": 13,
   "metadata": {},
   "outputs": [
    {
     "name": "stdout",
     "output_type": "stream",
     "text": [
      "Overwriting jinja/hello.md\n"
     ]
    }
   ],
   "source": [
    "%%writefile jinja/hello.md\n",
    "# {{ post.title }}\n",
    "\n",
    "{{ post.content }}\n",
    "\n",
    "[link]({{ post.link }})"
   ]
  },
  {
   "cell_type": "code",
   "execution_count": 14,
   "metadata": {},
   "outputs": [
    {
     "name": "stdout",
     "output_type": "stream",
     "text": [
      "# Example\n",
      "\n",
      "This is an example.\n",
      "\n",
      "[link](https://maxhumber.com)\n"
     ]
    }
   ],
   "source": [
    "template = env.get_template('hello.md')\n",
    "\n",
    "blog = {'title': 'Example', 'content': 'This is an example.', 'link': 'https://maxhumber.com'}\n",
    "\n",
    "output = template.render(post=blog)\n",
    "\n",
    "print(output)"
   ]
  },
  {
   "cell_type": "markdown",
   "metadata": {},
   "source": [
    "#### Conditionals"
   ]
  },
  {
   "cell_type": "code",
   "execution_count": 21,
   "metadata": {},
   "outputs": [
    {
     "name": "stdout",
     "output_type": "stream",
     "text": [
      "Overwriting jinja/weather.txt\n"
     ]
    }
   ],
   "source": [
    "%%writefile jinja/weather.txt\n",
    "{% if rain %}\n",
    "Bring an umbrella!\n",
    "{% else %}\n",
    "Sun's out, guns out 💪\n",
    "{% endif %}"
   ]
  },
  {
   "cell_type": "code",
   "execution_count": 22,
   "metadata": {},
   "outputs": [
    {
     "name": "stdout",
     "output_type": "stream",
     "text": [
      "\n",
      "Sun's out, guns out 💪\n",
      "\n"
     ]
    }
   ],
   "source": [
    "template = env.get_template('weather.txt')\n",
    "output = template.render(rain=False)\n",
    "print(output)"
   ]
  },
  {
   "cell_type": "markdown",
   "metadata": {},
   "source": [
    "#### Loops"
   ]
  },
  {
   "cell_type": "code",
   "execution_count": 28,
   "metadata": {},
   "outputs": [
    {
     "name": "stdout",
     "output_type": "stream",
     "text": [
      "Overwriting jinja/github.txt\n"
     ]
    }
   ],
   "source": [
    "%%writefile jinja/github.txt\n",
    "{% for package in packages %}\n",
    "{{ package }}\n",
    "{% endfor %}"
   ]
  },
  {
   "cell_type": "code",
   "execution_count": 29,
   "metadata": {},
   "outputs": [
    {
     "name": "stdout",
     "output_type": "stream",
     "text": [
      "\n",
      "chart\n",
      "\n",
      "pandas\n",
      "\n",
      "reloading\n",
      "\n",
      "tensorflow\n",
      "\n"
     ]
    }
   ],
   "source": [
    "template = env.get_template('github.txt')\n",
    "\n",
    "repos = ['chart', 'pandas', 'reloading', 'tensorflow']\n",
    "\n",
    "output = template.render(packages=repos)\n",
    "\n",
    "print(output)"
   ]
  },
  {
   "cell_type": "markdown",
   "metadata": {},
   "source": [
    "#### Jinja and HTML"
   ]
  },
  {
   "cell_type": "code",
   "execution_count": null,
   "metadata": {},
   "outputs": [],
   "source": [
    "%%writefile jinja/trash.html\n",
    "<!DOCTYPE html>\n",
    "<html lang=\"en\">\n",
    "  <head>\n",
    "    <meta charset=\"utf-8\">\n",
    "    <title>This is so bad</title>\n",
    "  </head>\n",
    "  <body>\n",
    "    <h1>This is so bad</h1>\n",
    "    <p>But it is real, functional <b>HTML</b></p>\n",
    "    <img src='https://media.giphy.com/media/uCcvPJ1EiA3Sw/giphy.gif' />\n",
    "  </body>\n",
    "</html>"
   ]
  },
  {
   "cell_type": "code",
   "execution_count": 30,
   "metadata": {},
   "outputs": [
    {
     "data": {
      "text/html": [
       "<!DOCTYPE html>\n",
       "<html lang=\"en\">\n",
       "  <head>\n",
       "    <meta charset=\"utf-8\">\n",
       "    <title>This is so bad</title>\n",
       "  </head>\n",
       "  <body>\n",
       "    <h1>This is so bad</h1>\n",
       "    <p>But it is real, functional <b>HTML</b></p>\n",
       "    <img src='https://media.giphy.com/media/uCcvPJ1EiA3Sw/giphy.gif' />\n",
       "  </body>\n",
       "</html>"
      ],
      "text/plain": [
       "<IPython.core.display.HTML object>"
      ]
     },
     "execution_count": 30,
     "metadata": {},
     "output_type": "execute_result"
    }
   ],
   "source": [
    "template = env.get_template('trash.html')\n",
    "\n",
    "output = template.render()\n",
    "\n",
    "HTML(output)"
   ]
  },
  {
   "cell_type": "code",
   "execution_count": null,
   "metadata": {},
   "outputs": [],
   "source": [
    "%%writefile jinja/trashroll.html\n",
    "<!DOCTYPE html>\n",
    "<html lang=\"en\">\n",
    "  <head>\n",
    "    <meta charset=\"utf-8\">\n",
    "    <title>{{ website.title }}</title>\n",
    "  </head>\n",
    "  <body>\n",
    "    <h1>{{ website.title }}</h1>\n",
    "    {{ website.content }}\n",
    "    <img src={{ website.image }} />\n",
    "  </body>\n",
    "</html>"
   ]
  },
  {
   "cell_type": "code",
   "execution_count": 36,
   "metadata": {},
   "outputs": [
    {
     "data": {
      "text/html": [
       "<!DOCTYPE html>\n",
       "<html lang=\"en\">\n",
       "  <head>\n",
       "    <meta charset=\"utf-8\">\n",
       "    <title>We're no strangers to HTML</title>\n",
       "  </head>\n",
       "  <body>\n",
       "    <h1>We're no strangers to HTML</h1>\n",
       "    <p>You know the <i>tags</i> and so do I</p>\n",
       "    <img src=https://media.giphy.com/media/olAik8MhYOB9K/giphy.gif />\n",
       "  </body>\n",
       "</html>"
      ],
      "text/plain": [
       "<IPython.core.display.HTML object>"
      ]
     },
     "execution_count": 36,
     "metadata": {},
     "output_type": "execute_result"
    }
   ],
   "source": [
    "template = env.get_template('trashroll.html')\n",
    "\n",
    "website = {\n",
    "    'title': 'We\\'re no strangers to HTML',\n",
    "    'content': '<p>You know the <i>tags</i> and so do I</p>',\n",
    "    'image': 'https://media.giphy.com/media/olAik8MhYOB9K/giphy.gif'}\n",
    "\n",
    "output = template.render(website=website)\n",
    "\n",
    "HTML(output)"
   ]
  },
  {
   "cell_type": "markdown",
   "metadata": {},
   "source": [
    "#### Inheritance "
   ]
  },
  {
   "cell_type": "code",
   "execution_count": null,
   "metadata": {},
   "outputs": [],
   "source": [
    "%%writefile jinja/base.html\n",
    "<!DOCTYPE html>\n",
    "<html lang=\"en\">\n",
    "  <head>\n",
    "    <meta charset=\"utf-8\">\n",
    "    <title>{{ title }}</title>\n",
    "  </head>\n",
    "  <body>\n",
    "  {{ title }}\n",
    "  {{ block content }}\n",
    "  </body>\n",
    "</html>"
   ]
  },
  {
   "cell_type": "code",
   "execution_count": null,
   "metadata": {},
   "outputs": [],
   "source": [
    "%%writefile templates/child.html\n",
    "\n",
    "{% extends \"base.html\" %}\n",
    "\n",
    "{% block content %}\n",
    "  <p>\n",
    "  {{ body }}\n",
    "  </p>\n",
    "{% endblock %}"
   ]
  },
  {
   "cell_type": "code",
   "execution_count": null,
   "metadata": {},
   "outputs": [],
   "source": [
    "template = env.get_template('child.html')\n",
    "output = template.render(title='Page Title', body='Stuff')\n",
    "print(output)"
   ]
  },
  {
   "cell_type": "markdown",
   "metadata": {},
   "source": [
    "## Flask + Jinja2"
   ]
  },
  {
   "cell_type": "code",
   "execution_count": null,
   "metadata": {},
   "outputs": [],
   "source": [
    "%%writefile templates/index.html\n",
    "\n",
    "<!DOCTYPE html>\n",
    "<html>\n",
    "  <body>\n",
    "    <p>Hello {{ username }}</p>\n",
    "  </body>\n",
    "</html>"
   ]
  },
  {
   "cell_type": "code",
   "execution_count": null,
   "metadata": {},
   "outputs": [],
   "source": [
    "%%writefile username.py\n",
    "\n",
    "from flask import Flask, render_template\n",
    "\n",
    "app = Flask(__name__, template_folder='templates')\n",
    "\n",
    "@app.route('/user/<username>')\n",
    "def index(username):\n",
    "    return render_template('index.html', username=username)\n",
    "\n",
    "if __name__ == '__main__':\n",
    "    app.run(debug=True)"
   ]
  },
  {
   "cell_type": "code",
   "execution_count": null,
   "metadata": {},
   "outputs": [],
   "source": [
    "%run username.py"
   ]
  },
  {
   "cell_type": "code",
   "execution_count": null,
   "metadata": {},
   "outputs": [],
   "source": [
    "%%writefile templates/index2.html\n",
    "\n",
    "<!DOCTYPE html>\n",
    "<html>\n",
    "<head>\n",
    " <title>Conditions</title>\n",
    "</head>\n",
    "<body>\n",
    "<ul>\n",
    " {% for name in list_example %}\n",
    " <li>{{ name }}</li>\n",
    " {% endfor %}\n",
    " </ul>\n",
    " \n",
    " <ol>\n",
    " {% for name in list_example %}\n",
    " <li>{{ name }}</li>\n",
    " {% endfor %}\n",
    " </ol>\n",
    " \n",
    "</body>\n",
    "</html>"
   ]
  },
  {
   "cell_type": "code",
   "execution_count": null,
   "metadata": {},
   "outputs": [],
   "source": [
    "%%writefile flask2.py\n",
    "\n",
    "from flask import Flask, render_template\n",
    " \n",
    "# app = Flask(__name__, template_folder='templates')\n",
    "app = Flask(__name__)\n",
    "@app.route('/')\n",
    "def index():\n",
    "    list_example = ['Alvin', 'Simon', 'Theodore']\n",
    "    return render_template('index2.html', list_example=list_example)\n",
    " \n",
    "if __name__ == '__main__':\n",
    "    app.run(debug=True)"
   ]
  },
  {
   "cell_type": "code",
   "execution_count": null,
   "metadata": {},
   "outputs": [],
   "source": [
    "%run flask2.py"
   ]
  },
  {
   "cell_type": "markdown",
   "metadata": {},
   "source": [
    "## Cleanup"
   ]
  },
  {
   "cell_type": "code",
   "execution_count": null,
   "metadata": {},
   "outputs": [],
   "source": [
    "root = pathlib.Path.cwd()"
   ]
  },
  {
   "cell_type": "code",
   "execution_count": null,
   "metadata": {},
   "outputs": [],
   "source": [
    "directory_path = root / 'templates'\n",
    "\n",
    "for each_file_path in directory_path.glob('*'):\n",
    "    print(f'removing {each_file_path}')\n",
    "    each_file_path.unlink()"
   ]
  },
  {
   "cell_type": "code",
   "execution_count": null,
   "metadata": {},
   "outputs": [],
   "source": [
    "file_path = root / 'username.py'\n",
    "file_path.unlink()"
   ]
  },
  {
   "cell_type": "code",
   "execution_count": null,
   "metadata": {},
   "outputs": [],
   "source": [
    "file_path = root / 'flask2.py'\n",
    "file_path.unlink()"
   ]
  }
 ],
 "metadata": {
  "kernelspec": {
   "display_name": "Python 3",
   "language": "python",
   "name": "python3"
  },
  "language_info": {
   "codemirror_mode": {
    "name": "ipython",
    "version": 3
   },
   "file_extension": ".py",
   "mimetype": "text/x-python",
   "name": "python",
   "nbconvert_exporter": "python",
   "pygments_lexer": "ipython3",
   "version": "3.7.3"
  }
 },
 "nbformat": 4,
 "nbformat_minor": 2
}
