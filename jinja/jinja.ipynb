{
  "cells": [
    {
      "cell_type": "code",
      "source": [
        "from IPython.core.display import HTML"
      ],
      "outputs": [],
      "execution_count": 1,
      "metadata": {}
    },
    {
      "cell_type": "code",
      "source": [
        "import os; os.getcwd()"
      ],
      "outputs": [
        {
          "output_type": "execute_result",
          "execution_count": 2,
          "data": {
            "text/plain": [
              "'/Users/max/Repos/MVML'"
            ]
          },
          "metadata": {}
        }
      ],
      "execution_count": 2,
      "metadata": {}
    },
    {
      "cell_type": "code",
      "source": [
        "from pathlib import Path\n",
        "\n",
        "Path(\"jinja/\").mkdir(parents=True, exist_ok=True)"
      ],
      "outputs": [],
      "execution_count": 37,
      "metadata": {}
    },
    {
      "cell_type": "markdown",
      "source": [
        "## f-strings"
      ],
      "metadata": {}
    },
    {
      "cell_type": "code",
      "source": [
        "name = 'Max'\n",
        "\n",
        "f'Hi, my name is {name}!'"
      ],
      "outputs": [
        {
          "output_type": "execute_result",
          "execution_count": 38,
          "data": {
            "text/plain": [
              "'Hi, my name is Max!'"
            ]
          },
          "metadata": {}
        }
      ],
      "execution_count": 38,
      "metadata": {}
    },
    {
      "cell_type": "markdown",
      "source": [
        "## Jinja2\n",
        "\n",
        "Basically f-strings... but for literally everything"
      ],
      "metadata": {}
    },
    {
      "cell_type": "code",
      "source": [
        "from jinja2 import Template\n",
        "\n",
        "t = Template(\"{{ name }} likes to eat {{ food }}\")\n",
        "\n",
        "t.render(name='Max', food='Soup')"
      ],
      "outputs": [
        {
          "output_type": "execute_result",
          "execution_count": 5,
          "data": {
            "text/plain": [
              "'Max likes to eat Soup'"
            ]
          },
          "metadata": {}
        }
      ],
      "execution_count": 5,
      "metadata": {}
    },
    {
      "cell_type": "markdown",
      "source": [
        "## Working with Files"
      ],
      "metadata": {}
    },
    {
      "cell_type": "code",
      "source": [
        "from jinja2 import Environment, FileSystemLoader"
      ],
      "outputs": [],
      "execution_count": 6,
      "metadata": {}
    },
    {
      "cell_type": "code",
      "source": [
        "env = Environment(loader=FileSystemLoader('jinja'))"
      ],
      "outputs": [],
      "execution_count": 7,
      "metadata": {}
    },
    {
      "cell_type": "markdown",
      "source": [
        "#### One variable"
      ],
      "metadata": {}
    },
    {
      "cell_type": "code",
      "source": [
        "%%writefile jinja/hello.txt\n",
        "Hello, {{ course }}!"
      ],
      "outputs": [
        {
          "output_type": "stream",
          "name": "stdout",
          "text": [
            "Overwriting jinja/hello.txt\n"
          ]
        }
      ],
      "execution_count": 8,
      "metadata": {}
    },
    {
      "cell_type": "code",
      "source": [
        "template = env.get_template('hello.txt')"
      ],
      "outputs": [],
      "execution_count": 9,
      "metadata": {}
    },
    {
      "cell_type": "code",
      "source": [
        "output = template.render(course='MVML')\n",
        "\n",
        "print(output)"
      ],
      "outputs": [
        {
          "output_type": "stream",
          "name": "stdout",
          "text": [
            "Hello, MVML!\n"
          ]
        }
      ],
      "execution_count": 10,
      "metadata": {}
    },
    {
      "cell_type": "markdown",
      "source": [
        "#### Multiple variables"
      ],
      "metadata": {}
    },
    {
      "cell_type": "code",
      "source": [
        "%%writefile jinja/hello.sql\n",
        "SELECT\n",
        "{{ columns }}\n",
        "FROM {{ table }}\n",
        "WHERE {{ condition }}"
      ],
      "outputs": [
        {
          "output_type": "stream",
          "name": "stdout",
          "text": [
            "Overwriting jinja/hello.sql\n"
          ]
        }
      ],
      "execution_count": 11,
      "metadata": {}
    },
    {
      "cell_type": "code",
      "source": [
        "template = env.get_template('hello.sql')\n",
        "\n",
        "output = template.render(\n",
        "    columns='name,\\ncalories,\\ningredients',\n",
        "    table='food',\n",
        "    condition='name == \"gazpacho\"')\n",
        "\n",
        "print(output)"
      ],
      "outputs": [
        {
          "output_type": "stream",
          "name": "stdout",
          "text": [
            "SELECT\n",
            "name,\n",
            "calories,\n",
            "ingredients\n",
            "FROM food\n",
            "WHERE name == \"gazpacho\"\n"
          ]
        }
      ],
      "execution_count": 12,
      "metadata": {}
    },
    {
      "cell_type": "markdown",
      "source": [
        "#### Dictionary variables"
      ],
      "metadata": {}
    },
    {
      "cell_type": "code",
      "source": [
        "%%writefile jinja/hello.md\n",
        "# {{ post.title }}\n",
        "\n",
        "{{ post.content }}\n",
        "\n",
        "[link]({{ post.link }})"
      ],
      "outputs": [
        {
          "output_type": "stream",
          "name": "stdout",
          "text": [
            "Overwriting jinja/hello.md\n"
          ]
        }
      ],
      "execution_count": 13,
      "metadata": {}
    },
    {
      "cell_type": "code",
      "source": [
        "template = env.get_template('hello.md')\n",
        "\n",
        "blog = {'title': 'Example', 'content': 'This is an example.', 'link': 'https://maxhumber.com'}\n",
        "\n",
        "output = template.render(post=blog)\n",
        "\n",
        "print(output)"
      ],
      "outputs": [
        {
          "output_type": "stream",
          "name": "stdout",
          "text": [
            "# Example\n",
            "\n",
            "This is an example.\n",
            "\n",
            "[link](https://maxhumber.com)\n"
          ]
        }
      ],
      "execution_count": 14,
      "metadata": {}
    },
    {
      "cell_type": "markdown",
      "source": [
        "#### Conditionals"
      ],
      "metadata": {}
    },
    {
      "cell_type": "code",
      "source": [
        "%%writefile jinja/weather.txt\n",
        "{% if rain %}\n",
        "Bring an umbrella!\n",
        "{% else %}\n",
        "Sun's out, guns out 💪\n",
        "{% endif %}"
      ],
      "outputs": [
        {
          "output_type": "stream",
          "name": "stdout",
          "text": [
            "Overwriting jinja/weather.txt\n"
          ]
        }
      ],
      "execution_count": 21,
      "metadata": {}
    },
    {
      "cell_type": "code",
      "source": [
        "template = env.get_template('weather.txt')\n",
        "output = template.render(rain=False)\n",
        "print(output)"
      ],
      "outputs": [
        {
          "output_type": "stream",
          "name": "stdout",
          "text": [
            "\n",
            "Sun's out, guns out 💪\n",
            "\n"
          ]
        }
      ],
      "execution_count": 22,
      "metadata": {}
    },
    {
      "cell_type": "markdown",
      "source": [
        "#### Loops"
      ],
      "metadata": {}
    },
    {
      "cell_type": "code",
      "source": [
        "%%writefile jinja/github.txt\n",
        "{% for package in packages %}\n",
        "{{ package }}\n",
        "{% endfor %}"
      ],
      "outputs": [
        {
          "output_type": "stream",
          "name": "stdout",
          "text": [
            "Overwriting jinja/github.txt\n"
          ]
        }
      ],
      "execution_count": 28,
      "metadata": {}
    },
    {
      "cell_type": "code",
      "source": [
        "template = env.get_template('github.txt')\n",
        "\n",
        "repos = ['chart', 'pandas', 'reloading', 'tensorflow']\n",
        "\n",
        "output = template.render(packages=repos)\n",
        "\n",
        "print(output)"
      ],
      "outputs": [
        {
          "output_type": "stream",
          "name": "stdout",
          "text": [
            "\n",
            "chart\n",
            "\n",
            "pandas\n",
            "\n",
            "reloading\n",
            "\n",
            "tensorflow\n",
            "\n"
          ]
        }
      ],
      "execution_count": 29,
      "metadata": {}
    },
    {
      "cell_type": "markdown",
      "source": [
        "#### Jinja and HTML"
      ],
      "metadata": {}
    },
    {
      "cell_type": "code",
      "source": [
        "%%writefile jinja/trash.html\n",
        "<!DOCTYPE html>\n",
        "<html lang=\"en\">\n",
        "  <head>\n",
        "    <meta charset=\"utf-8\">\n",
        "    <title>This is so bad</title>\n",
        "  </head>\n",
        "  <body>\n",
        "    <h1>This is so bad</h1>\n",
        "    <p>But it is real, functional <b>HTML</b></p>\n",
        "    <img src='https://media.giphy.com/media/uCcvPJ1EiA3Sw/giphy.gif' />\n",
        "  </body>\n",
        "</html>"
      ],
      "outputs": [],
      "execution_count": null,
      "metadata": {}
    },
    {
      "cell_type": "code",
      "source": [
        "template = env.get_template('trash.html')\n",
        "\n",
        "output = template.render()\n",
        "\n",
        "HTML(output)"
      ],
      "outputs": [
        {
          "output_type": "execute_result",
          "execution_count": 30,
          "data": {
            "text/html": [
              "<!DOCTYPE html>\n",
              "<html lang=\"en\">\n",
              "  <head>\n",
              "    <meta charset=\"utf-8\">\n",
              "    <title>This is so bad</title>\n",
              "  </head>\n",
              "  <body>\n",
              "    <h1>This is so bad</h1>\n",
              "    <p>But it is real, functional <b>HTML</b></p>\n",
              "    <img src='https://media.giphy.com/media/uCcvPJ1EiA3Sw/giphy.gif' />\n",
              "  </body>\n",
              "</html>"
            ],
            "text/plain": [
              "<IPython.core.display.HTML object>"
            ]
          },
          "metadata": {}
        }
      ],
      "execution_count": 30,
      "metadata": {}
    },
    {
      "cell_type": "code",
      "source": [
        "%%writefile jinja/trashroll.html\n",
        "<!DOCTYPE html>\n",
        "<html lang=\"en\">\n",
        "  <head>\n",
        "    <meta charset=\"utf-8\">\n",
        "    <title>{{ website.title }}</title>\n",
        "  </head>\n",
        "  <body>\n",
        "    <h1>{{ website.title }}</h1>\n",
        "    {{ website.content }}\n",
        "    <img src={{ website.image }} />\n",
        "  </body>\n",
        "</html>"
      ],
      "outputs": [],
      "execution_count": null,
      "metadata": {}
    },
    {
      "cell_type": "code",
      "source": [
        "template = env.get_template('trashroll.html')\n",
        "\n",
        "website = {\n",
        "    'title': 'We\\'re no strangers to HTML',\n",
        "    'content': '<p>You know the <i>tags</i> and so do I</p>',\n",
        "    'image': 'https://media.giphy.com/media/olAik8MhYOB9K/giphy.gif'}\n",
        "\n",
        "output = template.render(website=website)\n",
        "\n",
        "HTML(output)"
      ],
      "outputs": [
        {
          "output_type": "execute_result",
          "execution_count": 36,
          "data": {
            "text/html": [
              "<!DOCTYPE html>\n",
              "<html lang=\"en\">\n",
              "  <head>\n",
              "    <meta charset=\"utf-8\">\n",
              "    <title>We're no strangers to HTML</title>\n",
              "  </head>\n",
              "  <body>\n",
              "    <h1>We're no strangers to HTML</h1>\n",
              "    <p>You know the <i>tags</i> and so do I</p>\n",
              "    <img src=https://media.giphy.com/media/olAik8MhYOB9K/giphy.gif />\n",
              "  </body>\n",
              "</html>"
            ],
            "text/plain": [
              "<IPython.core.display.HTML object>"
            ]
          },
          "metadata": {}
        }
      ],
      "execution_count": 36,
      "metadata": {}
    },
    {
      "cell_type": "markdown",
      "source": [
        "#### Inheritance "
      ],
      "metadata": {}
    },
    {
      "cell_type": "code",
      "source": [
        "%%writefile jinja/base.html\n",
        "<!DOCTYPE html>\n",
        "<html lang=\"en\">\n",
        "  <head>\n",
        "    <meta charset=\"utf-8\">\n",
        "    <title>{{ title }}</title>\n",
        "  </head>\n",
        "  <body>\n",
        "  {{ title }}\n",
        "  {{ block content }}\n",
        "  </body>\n",
        "</html>"
      ],
      "outputs": [],
      "execution_count": null,
      "metadata": {}
    },
    {
      "cell_type": "code",
      "source": [
        "%%writefile templates/child.html\n",
        "\n",
        "{% extends \"base.html\" %}\n",
        "\n",
        "{% block content %}\n",
        "  <p>\n",
        "  {{ body }}\n",
        "  </p>\n",
        "{% endblock %}"
      ],
      "outputs": [],
      "execution_count": null,
      "metadata": {}
    },
    {
      "cell_type": "code",
      "source": [
        "template = env.get_template('child.html')\n",
        "output = template.render(title='Page Title', body='Stuff')\n",
        "print(output)"
      ],
      "outputs": [],
      "execution_count": null,
      "metadata": {}
    },
    {
      "cell_type": "markdown",
      "source": [
        "## Flask + Jinja2"
      ],
      "metadata": {}
    },
    {
      "cell_type": "code",
      "source": [
        "%%writefile templates/index.html\n",
        "\n",
        "<!DOCTYPE html>\n",
        "<html>\n",
        "  <body>\n",
        "    <p>Hello {{ username }}</p>\n",
        "  </body>\n",
        "</html>"
      ],
      "outputs": [],
      "execution_count": null,
      "metadata": {}
    },
    {
      "cell_type": "code",
      "source": [
        "%%writefile username.py\n",
        "\n",
        "from flask import Flask, render_template\n",
        "\n",
        "app = Flask(__name__, template_folder='templates')\n",
        "\n",
        "@app.route('/user/<username>')\n",
        "def index(username):\n",
        "    return render_template('index.html', username=username)\n",
        "\n",
        "if __name__ == '__main__':\n",
        "    app.run(debug=True)"
      ],
      "outputs": [],
      "execution_count": null,
      "metadata": {}
    },
    {
      "cell_type": "code",
      "source": [
        "%run username.py"
      ],
      "outputs": [],
      "execution_count": null,
      "metadata": {}
    },
    {
      "cell_type": "code",
      "source": [
        "%%writefile templates/index2.html\n",
        "\n",
        "<!DOCTYPE html>\n",
        "<html>\n",
        "<head>\n",
        " <title>Conditions</title>\n",
        "</head>\n",
        "<body>\n",
        "<ul>\n",
        " {% for name in list_example %}\n",
        " <li>{{ name }}</li>\n",
        " {% endfor %}\n",
        " </ul>\n",
        " \n",
        " <ol>\n",
        " {% for name in list_example %}\n",
        " <li>{{ name }}</li>\n",
        " {% endfor %}\n",
        " </ol>\n",
        " \n",
        "</body>\n",
        "</html>"
      ],
      "outputs": [],
      "execution_count": null,
      "metadata": {}
    },
    {
      "cell_type": "code",
      "source": [
        "%%writefile flask2.py\n",
        "\n",
        "from flask import Flask, render_template\n",
        " \n",
        "# app = Flask(__name__, template_folder='templates')\n",
        "app = Flask(__name__)\n",
        "@app.route('/')\n",
        "def index():\n",
        "    list_example = ['Alvin', 'Simon', 'Theodore']\n",
        "    return render_template('index2.html', list_example=list_example)\n",
        " \n",
        "if __name__ == '__main__':\n",
        "    app.run(debug=True)"
      ],
      "outputs": [],
      "execution_count": null,
      "metadata": {}
    },
    {
      "cell_type": "code",
      "source": [
        "%run flask2.py"
      ],
      "outputs": [],
      "execution_count": null,
      "metadata": {}
    },
    {
      "cell_type": "markdown",
      "source": [
        "## Cleanup"
      ],
      "metadata": {}
    },
    {
      "cell_type": "code",
      "source": [
        "root = pathlib.Path.cwd()"
      ],
      "outputs": [],
      "execution_count": null,
      "metadata": {}
    },
    {
      "cell_type": "code",
      "source": [
        "directory_path = root / 'templates'\n",
        "\n",
        "for each_file_path in directory_path.glob('*'):\n",
        "    print(f'removing {each_file_path}')\n",
        "    each_file_path.unlink()"
      ],
      "outputs": [],
      "execution_count": null,
      "metadata": {}
    },
    {
      "cell_type": "code",
      "source": [
        "file_path = root / 'username.py'\n",
        "file_path.unlink()"
      ],
      "outputs": [],
      "execution_count": null,
      "metadata": {}
    },
    {
      "cell_type": "code",
      "source": [
        "file_path = root / 'flask2.py'\n",
        "file_path.unlink()"
      ],
      "outputs": [],
      "execution_count": null,
      "metadata": {}
    }
  ],
  "metadata": {
    "kernelspec": {
      "name": "python3",
      "language": "python",
      "display_name": "Python 3"
    },
    "language_info": {
      "name": "python",
      "version": "3.7.3",
      "mimetype": "text/x-python",
      "codemirror_mode": {
        "name": "ipython",
        "version": 3
      },
      "pygments_lexer": "ipython3",
      "nbconvert_exporter": "python",
      "file_extension": ".py"
    },
    "kernel_info": {
      "name": "python3"
    },
    "nteract": {
      "version": "0.15.0"
    }
  },
  "nbformat": 4,
  "nbformat_minor": 2
}