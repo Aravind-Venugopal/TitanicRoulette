{
 "cells": [
  {
   "cell_type": "markdown",
   "metadata": {},
   "source": [
    "### The Data"
   ]
  },
  {
   "cell_type": "code",
   "execution_count": 1,
   "metadata": {},
   "outputs": [],
   "source": [
    "import pandas as pd"
   ]
  },
  {
   "cell_type": "code",
   "execution_count": 2,
   "metadata": {},
   "outputs": [],
   "source": [
    "df = pd.read_csv('data/stars.csv')"
   ]
  },
  {
   "cell_type": "code",
   "execution_count": 3,
   "metadata": {},
   "outputs": [
    {
     "data": {
      "text/html": [
       "<div>\n",
       "<style scoped>\n",
       "    .dataframe tbody tr th:only-of-type {\n",
       "        vertical-align: middle;\n",
       "    }\n",
       "\n",
       "    .dataframe tbody tr th {\n",
       "        vertical-align: top;\n",
       "    }\n",
       "\n",
       "    .dataframe thead th {\n",
       "        text-align: right;\n",
       "    }\n",
       "</style>\n",
       "<table border=\"1\" class=\"dataframe\">\n",
       "  <thead>\n",
       "    <tr style=\"text-align: right;\">\n",
       "      <th></th>\n",
       "      <th>description</th>\n",
       "      <th>language</th>\n",
       "      <th>repo</th>\n",
       "      <th>stargazers</th>\n",
       "      <th>user</th>\n",
       "    </tr>\n",
       "  </thead>\n",
       "  <tbody>\n",
       "    <tr>\n",
       "      <th>9481</th>\n",
       "      <td>2019年最新总结，阿里，腾讯，百度，美团，头条等技术面试题目，以及答案，专家出题人分析汇总。</td>\n",
       "      <td>Python</td>\n",
       "      <td>0voice/interview_internal_reference</td>\n",
       "      <td>20555</td>\n",
       "      <td>zhoujz10</td>\n",
       "    </tr>\n",
       "    <tr>\n",
       "      <th>1757</th>\n",
       "      <td>Your Project with Great Documentation.</td>\n",
       "      <td>Python</td>\n",
       "      <td>timothycrosley/portray</td>\n",
       "      <td>473</td>\n",
       "      <td>03b8</td>\n",
       "    </tr>\n",
       "    <tr>\n",
       "      <th>4660</th>\n",
       "      <td>A cute widget of Switch Button for  you to cre...</td>\n",
       "      <td>Java</td>\n",
       "      <td>kyleduo/SwitchButton</td>\n",
       "      <td>4152</td>\n",
       "      <td>fahmihidayah</td>\n",
       "    </tr>\n",
       "    <tr>\n",
       "      <th>4913</th>\n",
       "      <td>The Most Powerful Swipe Layout!</td>\n",
       "      <td>Java</td>\n",
       "      <td>daimajia/AndroidSwipeLayout</td>\n",
       "      <td>11483</td>\n",
       "      <td>fahmihidayah</td>\n",
       "    </tr>\n",
       "    <tr>\n",
       "      <th>23419</th>\n",
       "      <td>Yet another pong (it seems like I can't do any...</td>\n",
       "      <td>JavaScript</td>\n",
       "      <td>bendem/PongJS</td>\n",
       "      <td>1</td>\n",
       "      <td>Curlybear</td>\n",
       "    </tr>\n",
       "  </tbody>\n",
       "</table>\n",
       "</div>"
      ],
      "text/plain": [
       "                                             description    language  \\\n",
       "9481     2019年最新总结，阿里，腾讯，百度，美团，头条等技术面试题目，以及答案，专家出题人分析汇总。      Python   \n",
       "1757              Your Project with Great Documentation.      Python   \n",
       "4660   A cute widget of Switch Button for  you to cre...        Java   \n",
       "4913                     The Most Powerful Swipe Layout!        Java   \n",
       "23419  Yet another pong (it seems like I can't do any...  JavaScript   \n",
       "\n",
       "                                      repo  stargazers          user  \n",
       "9481   0voice/interview_internal_reference       20555      zhoujz10  \n",
       "1757                timothycrosley/portray         473          03b8  \n",
       "4660                  kyleduo/SwitchButton        4152  fahmihidayah  \n",
       "4913           daimajia/AndroidSwipeLayout       11483  fahmihidayah  \n",
       "23419                        bendem/PongJS           1     Curlybear  "
      ]
     },
     "execution_count": 3,
     "metadata": {},
     "output_type": "execute_result"
    }
   ],
   "source": [
    "df.sample(5)"
   ]
  },
  {
   "cell_type": "markdown",
   "metadata": {},
   "source": [
    "### The Cleanup"
   ]
  },
  {
   "cell_type": "code",
   "execution_count": 4,
   "metadata": {},
   "outputs": [],
   "source": [
    "df = df[df['repo'] != 'maxhumber/gazpacho']\n",
    "popular = pd.DataFrame(df['repo'].value_counts())\n",
    "select_repos = popular[popular['repo'] >= 3].index.tolist()\n",
    "df = df[df['repo'].isin(select_repos)]"
   ]
  },
  {
   "cell_type": "code",
   "execution_count": 5,
   "metadata": {},
   "outputs": [
    {
     "data": {
      "text/html": [
       "<div>\n",
       "<style scoped>\n",
       "    .dataframe tbody tr th:only-of-type {\n",
       "        vertical-align: middle;\n",
       "    }\n",
       "\n",
       "    .dataframe tbody tr th {\n",
       "        vertical-align: top;\n",
       "    }\n",
       "\n",
       "    .dataframe thead th {\n",
       "        text-align: right;\n",
       "    }\n",
       "</style>\n",
       "<table border=\"1\" class=\"dataframe\">\n",
       "  <thead>\n",
       "    <tr style=\"text-align: right;\">\n",
       "      <th></th>\n",
       "      <th>description</th>\n",
       "      <th>language</th>\n",
       "      <th>repo</th>\n",
       "      <th>stargazers</th>\n",
       "      <th>user</th>\n",
       "    </tr>\n",
       "  </thead>\n",
       "  <tbody>\n",
       "    <tr>\n",
       "      <th>18172</th>\n",
       "      <td>:cherry_blossom: A command-line fuzzy finder</td>\n",
       "      <td>Go</td>\n",
       "      <td>junegunn/fzf</td>\n",
       "      <td>24475</td>\n",
       "      <td>AllanLRH</td>\n",
       "    </tr>\n",
       "    <tr>\n",
       "      <th>13826</th>\n",
       "      <td>Simple, fast, safe, compiled language for deve...</td>\n",
       "      <td>V</td>\n",
       "      <td>vlang/v</td>\n",
       "      <td>11672</td>\n",
       "      <td>ayarotsky</td>\n",
       "    </tr>\n",
       "    <tr>\n",
       "      <th>21057</th>\n",
       "      <td>All Algorithms implemented in Python</td>\n",
       "      <td>Jupyter Notebook</td>\n",
       "      <td>TheAlgorithms/Python</td>\n",
       "      <td>59309</td>\n",
       "      <td>Brombult</td>\n",
       "    </tr>\n",
       "    <tr>\n",
       "      <th>23101</th>\n",
       "      <td>🧠 Leon is your open-source personal assistant.</td>\n",
       "      <td>JavaScript</td>\n",
       "      <td>leon-ai/leon</td>\n",
       "      <td>5927</td>\n",
       "      <td>malfario</td>\n",
       "    </tr>\n",
       "    <tr>\n",
       "      <th>5566</th>\n",
       "      <td>Collection of awesome Python types, stubs, plu...</td>\n",
       "      <td>NaN</td>\n",
       "      <td>typeddjango/awesome-python-typing</td>\n",
       "      <td>267</td>\n",
       "      <td>mikeckennedy</td>\n",
       "    </tr>\n",
       "  </tbody>\n",
       "</table>\n",
       "</div>"
      ],
      "text/plain": [
       "                                             description          language  \\\n",
       "18172       :cherry_blossom: A command-line fuzzy finder                Go   \n",
       "13826  Simple, fast, safe, compiled language for deve...                 V   \n",
       "21057               All Algorithms implemented in Python  Jupyter Notebook   \n",
       "23101     🧠 Leon is your open-source personal assistant.        JavaScript   \n",
       "5566   Collection of awesome Python types, stubs, plu...               NaN   \n",
       "\n",
       "                                    repo  stargazers          user  \n",
       "18172                       junegunn/fzf       24475      AllanLRH  \n",
       "13826                            vlang/v       11672     ayarotsky  \n",
       "21057               TheAlgorithms/Python       59309      Brombult  \n",
       "23101                       leon-ai/leon        5927      malfario  \n",
       "5566   typeddjango/awesome-python-typing         267  mikeckennedy  "
      ]
     },
     "execution_count": 5,
     "metadata": {},
     "output_type": "execute_result"
    }
   ],
   "source": [
    "df.sample(5)"
   ]
  },
  {
   "cell_type": "markdown",
   "metadata": {},
   "source": [
    "### The Preparation"
   ]
  },
  {
   "cell_type": "code",
   "execution_count": 6,
   "metadata": {},
   "outputs": [],
   "source": [
    "df = df.groupby(['user'])['repo'].apply(lambda x: ','.join(x))\n",
    "df = pd.DataFrame(df)"
   ]
  },
  {
   "cell_type": "code",
   "execution_count": 7,
   "metadata": {},
   "outputs": [
    {
     "data": {
      "text/html": [
       "<div>\n",
       "<style scoped>\n",
       "    .dataframe tbody tr th:only-of-type {\n",
       "        vertical-align: middle;\n",
       "    }\n",
       "\n",
       "    .dataframe tbody tr th {\n",
       "        vertical-align: top;\n",
       "    }\n",
       "\n",
       "    .dataframe thead th {\n",
       "        text-align: right;\n",
       "    }\n",
       "</style>\n",
       "<table border=\"1\" class=\"dataframe\">\n",
       "  <thead>\n",
       "    <tr style=\"text-align: right;\">\n",
       "      <th></th>\n",
       "      <th>repo</th>\n",
       "    </tr>\n",
       "    <tr>\n",
       "      <th>user</th>\n",
       "      <th></th>\n",
       "    </tr>\n",
       "  </thead>\n",
       "  <tbody>\n",
       "    <tr>\n",
       "      <th>mazharul-miraz</th>\n",
       "      <td>taniarascia/takenote,instantpage/instant.page,...</td>\n",
       "    </tr>\n",
       "    <tr>\n",
       "      <th>thejustin</th>\n",
       "      <td>Rigellute/spotify-tui,github/CodeSearchNet,psi...</td>\n",
       "    </tr>\n",
       "    <tr>\n",
       "      <th>javad94</th>\n",
       "      <td>microsoft/cascadia-code,matplotlib/matplotlib,...</td>\n",
       "    </tr>\n",
       "    <tr>\n",
       "      <th>AndreWohnsland</th>\n",
       "      <td>plasticityai/supersqlite,mherrmann/fbs</td>\n",
       "    </tr>\n",
       "    <tr>\n",
       "      <th>MagicXY</th>\n",
       "      <td>firmai/industry-machine-learning,thunlp/GNNPap...</td>\n",
       "    </tr>\n",
       "  </tbody>\n",
       "</table>\n",
       "</div>"
      ],
      "text/plain": [
       "                                                             repo\n",
       "user                                                             \n",
       "mazharul-miraz  taniarascia/takenote,instantpage/instant.page,...\n",
       "thejustin       Rigellute/spotify-tui,github/CodeSearchNet,psi...\n",
       "javad94         microsoft/cascadia-code,matplotlib/matplotlib,...\n",
       "AndreWohnsland             plasticityai/supersqlite,mherrmann/fbs\n",
       "MagicXY         firmai/industry-machine-learning,thunlp/GNNPap..."
      ]
     },
     "execution_count": 7,
     "metadata": {},
     "output_type": "execute_result"
    }
   ],
   "source": [
    "df.sample(5)"
   ]
  },
  {
   "cell_type": "markdown",
   "metadata": {},
   "source": [
    "### The Model"
   ]
  },
  {
   "cell_type": "code",
   "execution_count": 8,
   "metadata": {},
   "outputs": [],
   "source": [
    "from sklearn.feature_extraction.text import CountVectorizer\n",
    "from sklearn.neighbors import NearestNeighbors\n",
    "\n",
    "\n",
    "class NNRecommender:\n",
    "\n",
    "    def __init__(self, n_neighbors=10, max_features=1000, tokenizer=lambda x: x.split(',')):\n",
    "        self.cv = CountVectorizer(tokenizer=tokenizer, max_features=max_features)\n",
    "        self.nn = NearestNeighbors(n_neighbors=n_neighbors)\n",
    "\n",
    "    def fit(self, X):\n",
    "        self.X = X\n",
    "        X = self.cv.fit_transform(X)\n",
    "        self.nn.fit(X)\n",
    "        return self\n",
    "\n",
    "    def predict(self, X):\n",
    "        Xt = self.cv.transform(X)\n",
    "        _, neighbors = self.nn.kneighbors(Xt)\n",
    "        points = []\n",
    "        for n in neighbors:\n",
    "            repos = []\n",
    "            for ni in n:\n",
    "                r = self.X.iloc[int(ni)].split(',')\n",
    "                repos.extend(r)\n",
    "            repos = list(set(repos))\n",
    "            points.append(repos)\n",
    "        return points"
   ]
  },
  {
   "cell_type": "code",
   "execution_count": 9,
   "metadata": {},
   "outputs": [
    {
     "data": {
      "text/plain": [
       "['shengqiangzhang/examples-of-web-crawlers',\n",
       " 'plasticityai/supersqlite',\n",
       " 'andkret/Cookbook',\n",
       " 'burnash/gspread',\n",
       " 'sloria/TextBlob',\n",
       " 'mherrmann/fbs',\n",
       " 'facebook/react',\n",
       " 'fastai/fastai',\n",
       " 'mrdoob/three.js',\n",
       " 'github/gitignore',\n",
       " 'froala/design-blocks',\n",
       " 'kubernetes/kubernetes',\n",
       " 'wistbean/learn_python3_spider',\n",
       " 'torvalds/linux',\n",
       " 'firmai/industry-machine-learning',\n",
       " 'Avik-Jain/100-Days-Of-ML-Code',\n",
       " 'TheAlgorithms/Python',\n",
       " 'vinta/awesome-python',\n",
       " 'getify/You-Dont-Know-JS']"
      ]
     },
     "execution_count": 9,
     "metadata": {},
     "output_type": "execute_result"
    }
   ],
   "source": [
    "model = NNRecommender()\n",
    "model.fit(df['repo'])\n",
    "model.predict(df['repo'])[14]"
   ]
  },
  {
   "cell_type": "markdown",
   "metadata": {},
   "source": [
    "### Under the Hood"
   ]
  },
  {
   "cell_type": "code",
   "execution_count": 10,
   "metadata": {},
   "outputs": [
    {
     "data": {
      "text/plain": [
       "matrix([[0, 0, 0, ..., 0, 0, 0],\n",
       "        [0, 1, 0, ..., 0, 0, 0],\n",
       "        [0, 0, 0, ..., 0, 0, 0],\n",
       "        [0, 0, 0, ..., 0, 0, 0],\n",
       "        [0, 0, 0, ..., 0, 0, 0]], dtype=int64)"
      ]
     },
     "execution_count": 10,
     "metadata": {},
     "output_type": "execute_result"
    }
   ],
   "source": [
    "cv = CountVectorizer(tokenizer=lambda x: x.split(','), max_features=1000)\n",
    "X = cv.fit_transform(df['repo'])\n",
    "X.todense()[:5]"
   ]
  },
  {
   "cell_type": "code",
   "execution_count": 11,
   "metadata": {},
   "outputs": [],
   "source": [
    "nn = NearestNeighbors(n_neighbors=10)"
   ]
  },
  {
   "cell_type": "code",
   "execution_count": 12,
   "metadata": {},
   "outputs": [
    {
     "data": {
      "text/plain": [
       "array([[ 11,  93,  14,   3,  68,  22,  83, 111,   2,  51],\n",
       "       [ 11,  22,   3,  14,  69,  93,  83,  68,   2,  51],\n",
       "       [ 11,  93,  14,   3,  68,  22,  83,  69,  51,   4],\n",
       "       [ 11,  14,  93,  22,   2,  68,  83,  69,  51,  12],\n",
       "       [ 11,   3,  14,  93,   2,  83,  68,  22,  69,  51]])"
      ]
     },
     "execution_count": 12,
     "metadata": {},
     "output_type": "execute_result"
    }
   ],
   "source": [
    "nn.fit(X)\n",
    "dist, ind = nn.kneighbors()\n",
    "ind[:5]"
   ]
  },
  {
   "cell_type": "markdown",
   "metadata": {},
   "source": [
    "#### Pickle "
   ]
  },
  {
   "cell_type": "code",
   "execution_count": 13,
   "metadata": {},
   "outputs": [],
   "source": [
    "import pickle"
   ]
  },
  {
   "cell_type": "code",
   "execution_count": 14,
   "metadata": {},
   "outputs": [
    {
     "ename": "PicklingError",
     "evalue": "Can't pickle <function NNRecommender.<lambda> at 0x11f9120d0>: attribute lookup NNRecommender.<lambda> on __main__ failed",
     "output_type": "error",
     "traceback": [
      "\u001b[0;31m---------------------------------------------------------------------------\u001b[0m",
      "\u001b[0;31mPicklingError\u001b[0m                             Traceback (most recent call last)",
      "\u001b[0;32m<ipython-input-14-c48b90b53560>\u001b[0m in \u001b[0;36m<module>\u001b[0;34m\u001b[0m\n\u001b[1;32m      1\u001b[0m \u001b[0;32mwith\u001b[0m \u001b[0mopen\u001b[0m\u001b[0;34m(\u001b[0m\u001b[0;34m'model.pkl'\u001b[0m\u001b[0;34m,\u001b[0m \u001b[0;34m'wb'\u001b[0m\u001b[0;34m)\u001b[0m \u001b[0;32mas\u001b[0m \u001b[0mf\u001b[0m\u001b[0;34m:\u001b[0m\u001b[0;34m\u001b[0m\u001b[0;34m\u001b[0m\u001b[0m\n\u001b[0;32m----> 2\u001b[0;31m     \u001b[0mpickle\u001b[0m\u001b[0;34m.\u001b[0m\u001b[0mdump\u001b[0m\u001b[0;34m(\u001b[0m\u001b[0mmodel\u001b[0m\u001b[0;34m,\u001b[0m \u001b[0mf\u001b[0m\u001b[0;34m)\u001b[0m\u001b[0;34m\u001b[0m\u001b[0;34m\u001b[0m\u001b[0m\n\u001b[0m",
      "\u001b[0;31mPicklingError\u001b[0m: Can't pickle <function NNRecommender.<lambda> at 0x11f9120d0>: attribute lookup NNRecommender.<lambda> on __main__ failed"
     ]
    }
   ],
   "source": [
    "with open('model.pkl', 'wb') as f:\n",
    "    pickle.dump(model, f)"
   ]
  },
  {
   "cell_type": "code",
   "execution_count": 15,
   "metadata": {},
   "outputs": [],
   "source": [
    "import dill # pip install dill\n",
    "\n",
    "with open('model.pkl', 'wb') as f:\n",
    "    dill.dump(model, f)\n",
    "\n",
    "del model\n",
    "\n",
    "with open('model.pkl', 'rb') as f:\n",
    "    model = dill.load(f)"
   ]
  },
  {
   "cell_type": "code",
   "execution_count": 16,
   "metadata": {},
   "outputs": [
    {
     "data": {
      "text/plain": [
       "['shengqiangzhang/examples-of-web-crawlers',\n",
       " 'plasticityai/supersqlite',\n",
       " 'andkret/Cookbook',\n",
       " 'burnash/gspread',\n",
       " 'sloria/TextBlob',\n",
       " 'mherrmann/fbs',\n",
       " 'facebook/react',\n",
       " 'fastai/fastai',\n",
       " 'mrdoob/three.js',\n",
       " 'github/gitignore',\n",
       " 'froala/design-blocks',\n",
       " 'kubernetes/kubernetes',\n",
       " 'wistbean/learn_python3_spider',\n",
       " 'torvalds/linux',\n",
       " 'firmai/industry-machine-learning',\n",
       " 'Avik-Jain/100-Days-Of-ML-Code',\n",
       " 'TheAlgorithms/Python',\n",
       " 'vinta/awesome-python',\n",
       " 'getify/You-Dont-Know-JS']"
      ]
     },
     "execution_count": 16,
     "metadata": {},
     "output_type": "execute_result"
    }
   ],
   "source": [
    "model.predict(df['repo'])[14]"
   ]
  },
  {
   "cell_type": "code",
   "execution_count": 17,
   "metadata": {},
   "outputs": [
    {
     "data": {
      "text/plain": [
       "[['shengqiangzhang/examples-of-web-crawlers',\n",
       "  'plasticityai/supersqlite',\n",
       "  'andkret/Cookbook',\n",
       "  'burnash/gspread',\n",
       "  'sloria/TextBlob',\n",
       "  'mherrmann/fbs',\n",
       "  'facebook/react',\n",
       "  'fastai/fastai',\n",
       "  'mrdoob/three.js',\n",
       "  'github/gitignore',\n",
       "  'froala/design-blocks',\n",
       "  'kubernetes/kubernetes',\n",
       "  'wistbean/learn_python3_spider',\n",
       "  'torvalds/linux',\n",
       "  'firmai/industry-machine-learning',\n",
       "  'Avik-Jain/100-Days-Of-ML-Code',\n",
       "  'TheAlgorithms/Python',\n",
       "  'vinta/awesome-python',\n",
       "  'getify/You-Dont-Know-JS']]"
      ]
     },
     "execution_count": 17,
     "metadata": {},
     "output_type": "execute_result"
    }
   ],
   "source": [
    "model.predict(['streamlit/streamlit,huggingface/transformers,encode/httpx,aws/chalice,maxhumber/chart'])"
   ]
  }
 ],
 "metadata": {
  "kernelspec": {
   "display_name": "Python 3",
   "language": "python",
   "name": "python3"
  },
  "language_info": {
   "codemirror_mode": {
    "name": "ipython",
    "version": 3
   },
   "file_extension": ".py",
   "mimetype": "text/x-python",
   "name": "python",
   "nbconvert_exporter": "python",
   "pygments_lexer": "ipython3",
   "version": "3.7.3"
  }
 },
 "nbformat": 4,
 "nbformat_minor": 2
}
