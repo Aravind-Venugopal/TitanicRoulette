{
 "cells": [
  {
   "cell_type": "markdown",
   "metadata": {},
   "source": [
    "### The Data"
   ]
  },
  {
   "cell_type": "code",
   "execution_count": 10,
   "metadata": {},
   "outputs": [],
   "source": [
    "import pandas as pd"
   ]
  },
  {
   "cell_type": "code",
   "execution_count": 11,
   "metadata": {},
   "outputs": [],
   "source": [
    "df = pd.read_csv('data/stars.csv')"
   ]
  },
  {
   "cell_type": "code",
   "execution_count": 12,
   "metadata": {},
   "outputs": [
    {
     "data": {
      "text/html": [
       "<div>\n",
       "<style scoped>\n",
       "    .dataframe tbody tr th:only-of-type {\n",
       "        vertical-align: middle;\n",
       "    }\n",
       "\n",
       "    .dataframe tbody tr th {\n",
       "        vertical-align: top;\n",
       "    }\n",
       "\n",
       "    .dataframe thead th {\n",
       "        text-align: right;\n",
       "    }\n",
       "</style>\n",
       "<table border=\"1\" class=\"dataframe\">\n",
       "  <thead>\n",
       "    <tr style=\"text-align: right;\">\n",
       "      <th></th>\n",
       "      <th>description</th>\n",
       "      <th>language</th>\n",
       "      <th>repo</th>\n",
       "      <th>stargazers</th>\n",
       "      <th>user</th>\n",
       "    </tr>\n",
       "  </thead>\n",
       "  <tbody>\n",
       "    <tr>\n",
       "      <th>6982</th>\n",
       "      <td>Clize: Turn Python functions into command-line...</td>\n",
       "      <td>Python</td>\n",
       "      <td>epsy/clize</td>\n",
       "      <td>409</td>\n",
       "      <td>DahlitzFlorian</td>\n",
       "    </tr>\n",
       "    <tr>\n",
       "      <th>3309</th>\n",
       "      <td>Blazing fast, instant realtime GraphQL APIs on...</td>\n",
       "      <td>JavaScript</td>\n",
       "      <td>hasura/graphql-engine</td>\n",
       "      <td>12312</td>\n",
       "      <td>mjhea0</td>\n",
       "    </tr>\n",
       "    <tr>\n",
       "      <th>15001</th>\n",
       "      <td>Syphon plugin for Unity</td>\n",
       "      <td>Objective-C</td>\n",
       "      <td>keijiro/KlakSyphon</td>\n",
       "      <td>104</td>\n",
       "      <td>periode</td>\n",
       "    </tr>\n",
       "    <tr>\n",
       "      <th>4233</th>\n",
       "      <td>Analytic platform for real-time large-scale st...</td>\n",
       "      <td>C++</td>\n",
       "      <td>qminer/qminer</td>\n",
       "      <td>178</td>\n",
       "      <td>davidag</td>\n",
       "    </tr>\n",
       "    <tr>\n",
       "      <th>19181</th>\n",
       "      <td>Creates Wheel based archives to allow portable...</td>\n",
       "      <td>Python</td>\n",
       "      <td>cloudify-cosmo/wagon</td>\n",
       "      <td>80</td>\n",
       "      <td>robcowie</td>\n",
       "    </tr>\n",
       "  </tbody>\n",
       "</table>\n",
       "</div>"
      ],
      "text/plain": [
       "                                             description     language  \\\n",
       "6982   Clize: Turn Python functions into command-line...       Python   \n",
       "3309   Blazing fast, instant realtime GraphQL APIs on...   JavaScript   \n",
       "15001                            Syphon plugin for Unity  Objective-C   \n",
       "4233   Analytic platform for real-time large-scale st...          C++   \n",
       "19181  Creates Wheel based archives to allow portable...       Python   \n",
       "\n",
       "                        repo  stargazers            user  \n",
       "6982              epsy/clize         409  DahlitzFlorian  \n",
       "3309   hasura/graphql-engine       12312          mjhea0  \n",
       "15001     keijiro/KlakSyphon         104         periode  \n",
       "4233           qminer/qminer         178         davidag  \n",
       "19181   cloudify-cosmo/wagon          80        robcowie  "
      ]
     },
     "execution_count": 12,
     "metadata": {},
     "output_type": "execute_result"
    }
   ],
   "source": [
    "df.sample(5)"
   ]
  },
  {
   "cell_type": "markdown",
   "metadata": {},
   "source": [
    "### The Cleanup"
   ]
  },
  {
   "cell_type": "code",
   "execution_count": 13,
   "metadata": {},
   "outputs": [],
   "source": [
    "df = df[df['repo'] != 'maxhumber/gazpacho']\n",
    "popular = pd.DataFrame(df['repo'].value_counts())\n",
    "select_repos = popular[popular['repo'] >= 3].index.tolist()\n",
    "df = df[df['repo'].isin(select_repos)]"
   ]
  },
  {
   "cell_type": "code",
   "execution_count": 14,
   "metadata": {},
   "outputs": [
    {
     "data": {
      "text/html": [
       "<div>\n",
       "<style scoped>\n",
       "    .dataframe tbody tr th:only-of-type {\n",
       "        vertical-align: middle;\n",
       "    }\n",
       "\n",
       "    .dataframe tbody tr th {\n",
       "        vertical-align: top;\n",
       "    }\n",
       "\n",
       "    .dataframe thead th {\n",
       "        text-align: right;\n",
       "    }\n",
       "</style>\n",
       "<table border=\"1\" class=\"dataframe\">\n",
       "  <thead>\n",
       "    <tr style=\"text-align: right;\">\n",
       "      <th></th>\n",
       "      <th>description</th>\n",
       "      <th>language</th>\n",
       "      <th>repo</th>\n",
       "      <th>stargazers</th>\n",
       "      <th>user</th>\n",
       "    </tr>\n",
       "  </thead>\n",
       "  <tbody>\n",
       "    <tr>\n",
       "      <th>12587</th>\n",
       "      <td>Context aware, pluggable and customizable data...</td>\n",
       "      <td>Python</td>\n",
       "      <td>microsoft/presidio</td>\n",
       "      <td>789</td>\n",
       "      <td>greed2411</td>\n",
       "    </tr>\n",
       "    <tr>\n",
       "      <th>14101</th>\n",
       "      <td>Google Drive CLI Client</td>\n",
       "      <td>Go</td>\n",
       "      <td>gdrive-org/gdrive</td>\n",
       "      <td>5936</td>\n",
       "      <td>kimthostrup</td>\n",
       "    </tr>\n",
       "    <tr>\n",
       "      <th>11290</th>\n",
       "      <td>Automatically generate a RESTful API service f...</td>\n",
       "      <td>Python</td>\n",
       "      <td>jeffknupp/sandman2</td>\n",
       "      <td>1401</td>\n",
       "      <td>aplgsd</td>\n",
       "    </tr>\n",
       "    <tr>\n",
       "      <th>1007</th>\n",
       "      <td>A curated list of awesome Go frameworks, libra...</td>\n",
       "      <td>Go</td>\n",
       "      <td>avelino/awesome-go</td>\n",
       "      <td>48551</td>\n",
       "      <td>enzoftware</td>\n",
       "    </tr>\n",
       "    <tr>\n",
       "      <th>17891</th>\n",
       "      <td>:computer:  An awesome &amp; curated list of best ...</td>\n",
       "      <td>NaN</td>\n",
       "      <td>Awesome-Windows/Awesome</td>\n",
       "      <td>10003</td>\n",
       "      <td>thejustin</td>\n",
       "    </tr>\n",
       "  </tbody>\n",
       "</table>\n",
       "</div>"
      ],
      "text/plain": [
       "                                             description language  \\\n",
       "12587  Context aware, pluggable and customizable data...   Python   \n",
       "14101                            Google Drive CLI Client       Go   \n",
       "11290  Automatically generate a RESTful API service f...   Python   \n",
       "1007   A curated list of awesome Go frameworks, libra...       Go   \n",
       "17891  :computer:  An awesome & curated list of best ...      NaN   \n",
       "\n",
       "                          repo  stargazers         user  \n",
       "12587       microsoft/presidio         789    greed2411  \n",
       "14101        gdrive-org/gdrive        5936  kimthostrup  \n",
       "11290       jeffknupp/sandman2        1401       aplgsd  \n",
       "1007        avelino/awesome-go       48551   enzoftware  \n",
       "17891  Awesome-Windows/Awesome       10003    thejustin  "
      ]
     },
     "execution_count": 14,
     "metadata": {},
     "output_type": "execute_result"
    }
   ],
   "source": [
    "df.sample(5)"
   ]
  },
  {
   "cell_type": "markdown",
   "metadata": {},
   "source": [
    "### The Preparation"
   ]
  },
  {
   "cell_type": "code",
   "execution_count": 16,
   "metadata": {},
   "outputs": [],
   "source": [
    "df = df.groupby(['user'])['repo'].apply(lambda x: ','.join(x))\n",
    "df = pd.DataFrame(df)"
   ]
  },
  {
   "cell_type": "code",
   "execution_count": 17,
   "metadata": {},
   "outputs": [
    {
     "data": {
      "text/html": [
       "<div>\n",
       "<style scoped>\n",
       "    .dataframe tbody tr th:only-of-type {\n",
       "        vertical-align: middle;\n",
       "    }\n",
       "\n",
       "    .dataframe tbody tr th {\n",
       "        vertical-align: top;\n",
       "    }\n",
       "\n",
       "    .dataframe thead th {\n",
       "        text-align: right;\n",
       "    }\n",
       "</style>\n",
       "<table border=\"1\" class=\"dataframe\">\n",
       "  <thead>\n",
       "    <tr style=\"text-align: right;\">\n",
       "      <th></th>\n",
       "      <th>repo</th>\n",
       "    </tr>\n",
       "    <tr>\n",
       "      <th>user</th>\n",
       "      <th></th>\n",
       "    </tr>\n",
       "  </thead>\n",
       "  <tbody>\n",
       "    <tr>\n",
       "      <th>shadymoses</th>\n",
       "      <td>daumann/ECMAScript-new-features-list,lydiahall...</td>\n",
       "    </tr>\n",
       "    <tr>\n",
       "      <th>AndreWohnsland</th>\n",
       "      <td>plasticityai/supersqlite,mherrmann/fbs</td>\n",
       "    </tr>\n",
       "    <tr>\n",
       "      <th>edujtm</th>\n",
       "      <td>servo/servo,flask-restful/flask-restful,encode...</td>\n",
       "    </tr>\n",
       "    <tr>\n",
       "      <th>mazharul-miraz</th>\n",
       "      <td>taniarascia/takenote,instantpage/instant.page,...</td>\n",
       "    </tr>\n",
       "    <tr>\n",
       "      <th>Liitle</th>\n",
       "      <td>tiangolo/fastapi,idealo/imagededup,eon01/kuber...</td>\n",
       "    </tr>\n",
       "  </tbody>\n",
       "</table>\n",
       "</div>"
      ],
      "text/plain": [
       "                                                             repo\n",
       "user                                                             \n",
       "shadymoses      daumann/ECMAScript-new-features-list,lydiahall...\n",
       "AndreWohnsland             plasticityai/supersqlite,mherrmann/fbs\n",
       "edujtm          servo/servo,flask-restful/flask-restful,encode...\n",
       "mazharul-miraz  taniarascia/takenote,instantpage/instant.page,...\n",
       "Liitle          tiangolo/fastapi,idealo/imagededup,eon01/kuber..."
      ]
     },
     "execution_count": 17,
     "metadata": {},
     "output_type": "execute_result"
    }
   ],
   "source": [
    "df.sample(5)"
   ]
  },
  {
   "cell_type": "markdown",
   "metadata": {},
   "source": [
    "### The Model"
   ]
  },
  {
   "cell_type": "code",
   "execution_count": 21,
   "metadata": {},
   "outputs": [],
   "source": [
    "from sklearn.feature_extraction.text import CountVectorizer\n",
    "from sklearn.neighbors import NearestNeighbors\n",
    "\n",
    "\n",
    "class NNRecommender:\n",
    "\n",
    "    def __init__(self, n_neighbors=10, max_features=1000, tokenizer=lambda x: x.split(',')):\n",
    "        self.cv = CountVectorizer(tokenizer=tokenizer, max_features=max_features)\n",
    "        self.nn = NearestNeighbors(n_neighbors=n_neighbors)\n",
    "\n",
    "    def fit(self, X):\n",
    "        self.X = X\n",
    "        X = self.cv.fit_transform(X)\n",
    "        self.nn.fit(X)\n",
    "        return self\n",
    "\n",
    "    def predict(self, X):\n",
    "        Xt = self.cv.transform(X)\n",
    "        _, neighbors = self.nn.kneighbors(Xt)\n",
    "        points = []\n",
    "        for n in neighbors:\n",
    "            repos = []\n",
    "            for ni in n:\n",
    "                r = self.X.iloc[int(ni)].split(',')\n",
    "                repos.extend(r)\n",
    "            repos = list(set(repos))\n",
    "            points.append(repos)\n",
    "        return points"
   ]
  },
  {
   "cell_type": "code",
   "execution_count": 24,
   "metadata": {},
   "outputs": [
    {
     "data": {
      "text/plain": [
       "['kubernetes/kubernetes',\n",
       " 'facebook/react',\n",
       " 'torvalds/linux',\n",
       " 'burnash/gspread',\n",
       " 'getify/You-Dont-Know-JS',\n",
       " 'Avik-Jain/100-Days-Of-ML-Code',\n",
       " 'firmai/industry-machine-learning',\n",
       " 'froala/design-blocks',\n",
       " 'github/gitignore',\n",
       " 'mherrmann/fbs',\n",
       " 'plasticityai/supersqlite',\n",
       " 'vinta/awesome-python',\n",
       " 'mrdoob/three.js',\n",
       " 'TheAlgorithms/Python',\n",
       " 'fastai/fastai',\n",
       " 'wistbean/learn_python3_spider',\n",
       " 'sloria/TextBlob',\n",
       " 'andkret/Cookbook',\n",
       " 'shengqiangzhang/examples-of-web-crawlers']"
      ]
     },
     "execution_count": 24,
     "metadata": {},
     "output_type": "execute_result"
    }
   ],
   "source": [
    "model = NNRecommender()\n",
    "model.fit(df['repo'])\n",
    "model.predict(df['repo'])[14]"
   ]
  },
  {
   "cell_type": "markdown",
   "metadata": {},
   "source": [
    "### Under the Hood"
   ]
  },
  {
   "cell_type": "code",
   "execution_count": 29,
   "metadata": {},
   "outputs": [
    {
     "data": {
      "text/plain": [
       "matrix([[0, 0, 0, ..., 0, 0, 0],\n",
       "        [0, 1, 0, ..., 0, 0, 0],\n",
       "        [0, 0, 0, ..., 0, 0, 0],\n",
       "        [0, 0, 0, ..., 0, 0, 0],\n",
       "        [0, 0, 0, ..., 0, 0, 0]], dtype=int64)"
      ]
     },
     "execution_count": 29,
     "metadata": {},
     "output_type": "execute_result"
    }
   ],
   "source": [
    "cv = CountVectorizer(tokenizer=lambda x: x.split(','), max_features=1000)\n",
    "X = cv.fit_transform(df['repo'])\n",
    "X.todense()[:5]"
   ]
  },
  {
   "cell_type": "code",
   "execution_count": 30,
   "metadata": {},
   "outputs": [],
   "source": [
    "nn = NearestNeighbors(n_neighbors=10)"
   ]
  },
  {
   "cell_type": "code",
   "execution_count": 35,
   "metadata": {},
   "outputs": [
    {
     "data": {
      "text/plain": [
       "array([[ 11,  93,  14,   3,  68,  22,  83, 111,   2,  51],\n",
       "       [ 11,  22,   3,  14,  69,  93,  83,  68,   2,  51],\n",
       "       [ 11,  93,  14,   3,  68,  22,  83,  69,  51,   4],\n",
       "       [ 11,  14,  93,  22,   2,  68,  83,  69,  51,  12],\n",
       "       [ 11,   3,  14,  93,   2,  83,  68,  22,  69,  51]])"
      ]
     },
     "execution_count": 35,
     "metadata": {},
     "output_type": "execute_result"
    }
   ],
   "source": [
    "nn.fit(X)\n",
    "dist, ind = nn.kneighbors()\n",
    "ind[:5]"
   ]
  }
 ],
 "metadata": {
  "kernelspec": {
   "display_name": "Python 3",
   "language": "python",
   "name": "python3"
  },
  "language_info": {
   "codemirror_mode": {
    "name": "ipython",
    "version": 3
   },
   "file_extension": ".py",
   "mimetype": "text/x-python",
   "name": "python",
   "nbconvert_exporter": "python",
   "pygments_lexer": "ipython3",
   "version": "3.7.3"
  }
 },
 "nbformat": 4,
 "nbformat_minor": 2
}
