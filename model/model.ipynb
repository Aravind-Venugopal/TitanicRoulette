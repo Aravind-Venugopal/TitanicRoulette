{
 "cells": [
  {
   "cell_type": "markdown",
   "metadata": {},
   "source": [
    "### The Data"
   ]
  },
  {
   "cell_type": "code",
   "execution_count": 1,
   "metadata": {},
   "outputs": [],
   "source": [
    "import pandas as pd"
   ]
  },
  {
   "cell_type": "code",
   "execution_count": 2,
   "metadata": {},
   "outputs": [],
   "source": [
    "df = pd.read_csv('../data/stars.csv')"
   ]
  },
  {
   "cell_type": "code",
   "execution_count": 3,
   "metadata": {},
   "outputs": [
    {
     "data": {
      "text/html": [
       "<div>\n",
       "<style scoped>\n",
       "    .dataframe tbody tr th:only-of-type {\n",
       "        vertical-align: middle;\n",
       "    }\n",
       "\n",
       "    .dataframe tbody tr th {\n",
       "        vertical-align: top;\n",
       "    }\n",
       "\n",
       "    .dataframe thead th {\n",
       "        text-align: right;\n",
       "    }\n",
       "</style>\n",
       "<table border=\"1\" class=\"dataframe\">\n",
       "  <thead>\n",
       "    <tr style=\"text-align: right;\">\n",
       "      <th></th>\n",
       "      <th>description</th>\n",
       "      <th>language</th>\n",
       "      <th>repo</th>\n",
       "      <th>stargazers</th>\n",
       "      <th>user</th>\n",
       "    </tr>\n",
       "  </thead>\n",
       "  <tbody>\n",
       "    <tr>\n",
       "      <th>15082</th>\n",
       "      <td>QuIP provides an interactive environment for c...</td>\n",
       "      <td>C</td>\n",
       "      <td>nasa/QuIP</td>\n",
       "      <td>108</td>\n",
       "      <td>periode</td>\n",
       "    </tr>\n",
       "    <tr>\n",
       "      <th>11689</th>\n",
       "      <td>Declarative statistical visualization library ...</td>\n",
       "      <td>Python</td>\n",
       "      <td>altair-viz/altair</td>\n",
       "      <td>4208</td>\n",
       "      <td>wanghaolin</td>\n",
       "    </tr>\n",
       "    <tr>\n",
       "      <th>17517</th>\n",
       "      <td>NaN</td>\n",
       "      <td>JavaScript</td>\n",
       "      <td>superscriptjs/normalizer</td>\n",
       "      <td>100</td>\n",
       "      <td>dancrew32</td>\n",
       "    </tr>\n",
       "    <tr>\n",
       "      <th>22086</th>\n",
       "      <td>Python dependency management and packaging mad...</td>\n",
       "      <td>Python</td>\n",
       "      <td>sdispater/poetry</td>\n",
       "      <td>6329</td>\n",
       "      <td>pavlokurochka</td>\n",
       "    </tr>\n",
       "    <tr>\n",
       "      <th>20898</th>\n",
       "      <td>Generate slow-motion videos by interpolating m...</td>\n",
       "      <td>Python</td>\n",
       "      <td>MortenHannemose/pytorch-vfi-cft</td>\n",
       "      <td>90</td>\n",
       "      <td>blanchefort</td>\n",
       "    </tr>\n",
       "  </tbody>\n",
       "</table>\n",
       "</div>"
      ],
      "text/plain": [
       "                                             description    language  \\\n",
       "15082  QuIP provides an interactive environment for c...           C   \n",
       "11689  Declarative statistical visualization library ...      Python   \n",
       "17517                                                NaN  JavaScript   \n",
       "22086  Python dependency management and packaging mad...      Python   \n",
       "20898  Generate slow-motion videos by interpolating m...      Python   \n",
       "\n",
       "                                  repo  stargazers           user  \n",
       "15082                        nasa/QuIP         108        periode  \n",
       "11689                altair-viz/altair        4208     wanghaolin  \n",
       "17517         superscriptjs/normalizer         100      dancrew32  \n",
       "22086                 sdispater/poetry        6329  pavlokurochka  \n",
       "20898  MortenHannemose/pytorch-vfi-cft          90    blanchefort  "
      ]
     },
     "execution_count": 3,
     "metadata": {},
     "output_type": "execute_result"
    }
   ],
   "source": [
    "df.sample(5)"
   ]
  },
  {
   "cell_type": "markdown",
   "metadata": {},
   "source": [
    "### The Cleanup"
   ]
  },
  {
   "cell_type": "code",
   "execution_count": 4,
   "metadata": {},
   "outputs": [],
   "source": [
    "df = df[df['repo'] != 'maxhumber/gazpacho']\n",
    "df = df[df.language.isin(['Python', 'Jupyter Notebook'])]\n",
    "popular = pd.DataFrame(df['repo'].value_counts())\n",
    "select_repos = popular[popular['repo'] >= 5].index.tolist()\n",
    "df = df[df['repo'].isin(select_repos)]"
   ]
  },
  {
   "cell_type": "code",
   "execution_count": 5,
   "metadata": {},
   "outputs": [
    {
     "data": {
      "text/html": [
       "<div>\n",
       "<style scoped>\n",
       "    .dataframe tbody tr th:only-of-type {\n",
       "        vertical-align: middle;\n",
       "    }\n",
       "\n",
       "    .dataframe tbody tr th {\n",
       "        vertical-align: top;\n",
       "    }\n",
       "\n",
       "    .dataframe thead th {\n",
       "        text-align: right;\n",
       "    }\n",
       "</style>\n",
       "<table border=\"1\" class=\"dataframe\">\n",
       "  <thead>\n",
       "    <tr style=\"text-align: right;\">\n",
       "      <th></th>\n",
       "      <th>description</th>\n",
       "      <th>language</th>\n",
       "      <th>repo</th>\n",
       "      <th>stargazers</th>\n",
       "      <th>user</th>\n",
       "    </tr>\n",
       "  </thead>\n",
       "  <tbody>\n",
       "    <tr>\n",
       "      <th>19970</th>\n",
       "      <td>Never use print for debugging again</td>\n",
       "      <td>Python</td>\n",
       "      <td>cool-RR/PySnooper</td>\n",
       "      <td>12726</td>\n",
       "      <td>viseshrp</td>\n",
       "    </tr>\n",
       "    <tr>\n",
       "      <th>13201</th>\n",
       "      <td>Turn Python scripts into handouts with Markdow...</td>\n",
       "      <td>Python</td>\n",
       "      <td>danijar/handout</td>\n",
       "      <td>1772</td>\n",
       "      <td>erdimollahuseyin</td>\n",
       "    </tr>\n",
       "    <tr>\n",
       "      <th>23810</th>\n",
       "      <td>Async Python 3.6+ web server/framework | Build...</td>\n",
       "      <td>Python</td>\n",
       "      <td>huge-success/sanic</td>\n",
       "      <td>12899</td>\n",
       "      <td>avinash-mishra</td>\n",
       "    </tr>\n",
       "    <tr>\n",
       "      <th>18481</th>\n",
       "      <td>The Python micro framework for building web ap...</td>\n",
       "      <td>Python</td>\n",
       "      <td>pallets/flask</td>\n",
       "      <td>46930</td>\n",
       "      <td>berlotto</td>\n",
       "    </tr>\n",
       "    <tr>\n",
       "      <th>6428</th>\n",
       "      <td>Comprehensive Python Cheatsheet</td>\n",
       "      <td>Python</td>\n",
       "      <td>gto76/python-cheatsheet</td>\n",
       "      <td>9183</td>\n",
       "      <td>pushpendrapratap</td>\n",
       "    </tr>\n",
       "  </tbody>\n",
       "</table>\n",
       "</div>"
      ],
      "text/plain": [
       "                                             description language  \\\n",
       "19970                Never use print for debugging again   Python   \n",
       "13201  Turn Python scripts into handouts with Markdow...   Python   \n",
       "23810  Async Python 3.6+ web server/framework | Build...   Python   \n",
       "18481  The Python micro framework for building web ap...   Python   \n",
       "6428                     Comprehensive Python Cheatsheet   Python   \n",
       "\n",
       "                          repo  stargazers              user  \n",
       "19970        cool-RR/PySnooper       12726          viseshrp  \n",
       "13201          danijar/handout        1772  erdimollahuseyin  \n",
       "23810       huge-success/sanic       12899    avinash-mishra  \n",
       "18481            pallets/flask       46930          berlotto  \n",
       "6428   gto76/python-cheatsheet        9183  pushpendrapratap  "
      ]
     },
     "execution_count": 5,
     "metadata": {},
     "output_type": "execute_result"
    }
   ],
   "source": [
    "df.sample(5)"
   ]
  },
  {
   "cell_type": "code",
   "execution_count": 6,
   "metadata": {},
   "outputs": [
    {
     "data": {
      "text/html": [
       "<div>\n",
       "<style scoped>\n",
       "    .dataframe tbody tr th:only-of-type {\n",
       "        vertical-align: middle;\n",
       "    }\n",
       "\n",
       "    .dataframe tbody tr th {\n",
       "        vertical-align: top;\n",
       "    }\n",
       "\n",
       "    .dataframe thead th {\n",
       "        text-align: right;\n",
       "    }\n",
       "</style>\n",
       "<table border=\"1\" class=\"dataframe\">\n",
       "  <thead>\n",
       "    <tr style=\"text-align: right;\">\n",
       "      <th></th>\n",
       "      <th>0</th>\n",
       "      <th>1</th>\n",
       "      <th>2</th>\n",
       "      <th>3</th>\n",
       "    </tr>\n",
       "  </thead>\n",
       "  <tbody>\n",
       "    <tr>\n",
       "      <th>0</th>\n",
       "      <td>0</td>\n",
       "      <td>0</td>\n",
       "      <td>1</td>\n",
       "      <td>0</td>\n",
       "    </tr>\n",
       "    <tr>\n",
       "      <th>1</th>\n",
       "      <td>0</td>\n",
       "      <td>1</td>\n",
       "      <td>1</td>\n",
       "      <td>0</td>\n",
       "    </tr>\n",
       "    <tr>\n",
       "      <th>2</th>\n",
       "      <td>1</td>\n",
       "      <td>0</td>\n",
       "      <td>0</td>\n",
       "      <td>1</td>\n",
       "    </tr>\n",
       "    <tr>\n",
       "      <th>3</th>\n",
       "      <td>0</td>\n",
       "      <td>0</td>\n",
       "      <td>0</td>\n",
       "      <td>1</td>\n",
       "    </tr>\n",
       "  </tbody>\n",
       "</table>\n",
       "</div>"
      ],
      "text/plain": [
       "   0  1  2  3\n",
       "0  0  0  1  0\n",
       "1  0  1  1  0\n",
       "2  1  0  0  1\n",
       "3  0  0  0  1"
      ]
     },
     "execution_count": 6,
     "metadata": {},
     "output_type": "execute_result"
    }
   ],
   "source": [
    "# shove into something that looks like this?\n",
    "pd.DataFrame([\n",
    "    [0, 0, 1, 0],\n",
    "    [0, 1, 1, 0],\n",
    "    [1, 0, 0, 1],\n",
    "    [0, 0, 0, 1]\n",
    "])"
   ]
  },
  {
   "cell_type": "markdown",
   "metadata": {},
   "source": [
    "### The Preparation"
   ]
  },
  {
   "cell_type": "code",
   "execution_count": 7,
   "metadata": {},
   "outputs": [],
   "source": [
    "df = df.groupby(['user'])['repo'].apply(lambda x: ','.join(x))\n",
    "df = pd.DataFrame(df)"
   ]
  },
  {
   "cell_type": "code",
   "execution_count": 8,
   "metadata": {},
   "outputs": [
    {
     "data": {
      "text/html": [
       "<div>\n",
       "<style scoped>\n",
       "    .dataframe tbody tr th:only-of-type {\n",
       "        vertical-align: middle;\n",
       "    }\n",
       "\n",
       "    .dataframe tbody tr th {\n",
       "        vertical-align: top;\n",
       "    }\n",
       "\n",
       "    .dataframe thead th {\n",
       "        text-align: right;\n",
       "    }\n",
       "</style>\n",
       "<table border=\"1\" class=\"dataframe\">\n",
       "  <thead>\n",
       "    <tr style=\"text-align: right;\">\n",
       "      <th></th>\n",
       "      <th>repo</th>\n",
       "    </tr>\n",
       "    <tr>\n",
       "      <th>user</th>\n",
       "      <th></th>\n",
       "    </tr>\n",
       "  </thead>\n",
       "  <tbody>\n",
       "    <tr>\n",
       "      <th>erdimollahuseyin</th>\n",
       "      <td>psf/black,idealo/imagededup,streamlit/streamli...</td>\n",
       "    </tr>\n",
       "    <tr>\n",
       "      <th>mxuribe</th>\n",
       "      <td>sebst/pythonic-news,facebookresearch/hydra,koo...</td>\n",
       "    </tr>\n",
       "    <tr>\n",
       "      <th>stribny</th>\n",
       "      <td>laike9m/pdir2,eon01/kubernetes-workshop,takluy...</td>\n",
       "    </tr>\n",
       "    <tr>\n",
       "      <th>bergran</th>\n",
       "      <td>faif/python-patterns,videoflow/videoflow,slori...</td>\n",
       "    </tr>\n",
       "    <tr>\n",
       "      <th>pixelandpen</th>\n",
       "      <td>streamlit/streamlit,jankrepl/pychubby,hzlmn/di...</td>\n",
       "    </tr>\n",
       "  </tbody>\n",
       "</table>\n",
       "</div>"
      ],
      "text/plain": [
       "                                                               repo\n",
       "user                                                               \n",
       "erdimollahuseyin  psf/black,idealo/imagededup,streamlit/streamli...\n",
       "mxuribe           sebst/pythonic-news,facebookresearch/hydra,koo...\n",
       "stribny           laike9m/pdir2,eon01/kubernetes-workshop,takluy...\n",
       "bergran           faif/python-patterns,videoflow/videoflow,slori...\n",
       "pixelandpen       streamlit/streamlit,jankrepl/pychubby,hzlmn/di..."
      ]
     },
     "execution_count": 8,
     "metadata": {},
     "output_type": "execute_result"
    }
   ],
   "source": [
    "df.sample(5)"
   ]
  },
  {
   "cell_type": "code",
   "execution_count": 9,
   "metadata": {},
   "outputs": [
    {
     "data": {
      "text/plain": [
       "['vinta/awesome-python,CorentinJ/Real-Time-Voice-Cloning,danijar/handout,ageitgey/face_recognition,jofpin/trape,grapheneX/grapheneX,gto76/python-cheatsheet,trekhleb/homemade-machine-learning,manrajgrover/halo,chris104957/maildown,psf/black,stewartmcgown/uds,TheAlgorithms/Python,cool-RR/PySnooper,Bogdanp/molten,nicolargo/glances,mkaz/termgraph,donnemartin/system-design-primer,chubin/cheat.sh,psf/requests-html,Zulko/moviepy,jarun/Buku,pypa/pipenv,soimort/you-get,public-apis/public-apis,HelloZeroNet/ZeroNet']"
      ]
     },
     "execution_count": 9,
     "metadata": {},
     "output_type": "execute_result"
    }
   ],
   "source": [
    "df.loc['Curlybear'].values.tolist()"
   ]
  },
  {
   "cell_type": "markdown",
   "metadata": {},
   "source": [
    "### The Model"
   ]
  },
  {
   "cell_type": "code",
   "execution_count": 10,
   "metadata": {},
   "outputs": [],
   "source": [
    "from sklearn.feature_extraction.text import CountVectorizer\n",
    "from sklearn.neighbors import NearestNeighbors\n",
    "\n",
    "\n",
    "class NNRecommender:\n",
    "    def __init__(self, n_neighbors=10, max_features=1000, tokenizer=lambda x: x.split(\",\")):\n",
    "        self.cv = CountVectorizer(tokenizer=tokenizer, max_features=max_features)\n",
    "        self.nn = NearestNeighbors(n_neighbors=n_neighbors)\n",
    "\n",
    "    def fit(self, X):\n",
    "        self.X = X\n",
    "        X = self.cv.fit_transform(X)\n",
    "        self.nn.fit(X)\n",
    "        return self\n",
    "\n",
    "    def predict(self, X):\n",
    "        Xp = []\n",
    "        for Xi in X:\n",
    "            Xt = self.cv.transform([Xi])\n",
    "            neighbors = self.nn.kneighbors(Xt, return_distance=False)\n",
    "            repos = []\n",
    "            for n in neighbors[0]:\n",
    "                r = self.X.iloc[int(n)].split(\",\")\n",
    "                repos.extend(r)\n",
    "            repos = list(set(repos))\n",
    "            repos = [r for r in repos if r not in Xi.split(\",\")]\n",
    "            Xp.append(repos)\n",
    "        return Xp"
   ]
  },
  {
   "cell_type": "code",
   "execution_count": 11,
   "metadata": {},
   "outputs": [
    {
     "data": {
      "text/plain": [
       "<__main__.NNRecommender at 0x11f68ec88>"
      ]
     },
     "execution_count": 11,
     "metadata": {},
     "output_type": "execute_result"
    }
   ],
   "source": [
    "model = NNRecommender()\n",
    "model.fit(df['repo'])"
   ]
  },
  {
   "cell_type": "code",
   "execution_count": 12,
   "metadata": {},
   "outputs": [
    {
     "data": {
      "text/plain": [
       "'CorentinJ/Real-Time-Voice-Cloning,s0md3v/goop,psf/requests,slundberg/shap,facebookresearch/pytext,practicalAI/practicalAI,Zulko/moviepy,python/mypy,ParthS007/background,keon/algorithms,google/python-fire,eriklindernoren/ML-From-Scratch,minimaxir/big-list-of-naughty-strings,pudo/dataset,nvbn/thefuck,dbcli/pgcli,faif/python-patterns,chriskiehl/Gooey'"
      ]
     },
     "execution_count": 12,
     "metadata": {},
     "output_type": "execute_result"
    }
   ],
   "source": [
    "df['repo'][42]"
   ]
  },
  {
   "cell_type": "code",
   "execution_count": 13,
   "metadata": {},
   "outputs": [
    {
     "data": {
      "text/plain": [
       "[['weskerfoot/DeleteFB',\n",
       "  'deepfakes/faceswap',\n",
       "  'fastai/fastai',\n",
       "  'sherlock-project/sherlock',\n",
       "  'Miserlou/Zappa',\n",
       "  'shengqiangzhang/examples-of-web-crawlers',\n",
       "  'smacke/subsync',\n",
       "  'sloria/TextBlob',\n",
       "  'scikit-learn/scikit-learn',\n",
       "  'donnemartin/interactive-coding-challenges',\n",
       "  'dae/anki',\n",
       "  'ageron/handson-ml2']]"
      ]
     },
     "execution_count": 13,
     "metadata": {},
     "output_type": "execute_result"
    }
   ],
   "source": [
    "model.predict([df['repo'][42]])"
   ]
  },
  {
   "cell_type": "markdown",
   "metadata": {},
   "source": [
    "### Under the Hood"
   ]
  },
  {
   "cell_type": "code",
   "execution_count": 14,
   "metadata": {},
   "outputs": [
    {
     "data": {
      "text/plain": [
       "['python/cpython,hugapi/hug,HypothesisWorks/hypothesis,timothycrosley/portray,timothycrosley/hypothesis-auto,tiangolo/fastapi,bocadilloproject/bocadillo,tartiflette/tartiflette,encode/httpx,pytest-dev/pytest,tonybaloney/wily,sdispater/poetry,mahmoud/glom,psf/black,chubin/wttr.in']"
      ]
     },
     "execution_count": 14,
     "metadata": {},
     "output_type": "execute_result"
    }
   ],
   "source": [
    "df.iloc[0].values.tolist()"
   ]
  },
  {
   "cell_type": "code",
   "execution_count": 15,
   "metadata": {},
   "outputs": [
    {
     "data": {
      "text/plain": [
       "matrix([[0, 0, 0, ..., 0, 0, 0],\n",
       "        [0, 0, 0, ..., 1, 1, 0],\n",
       "        [0, 0, 0, ..., 0, 0, 0],\n",
       "        [0, 0, 0, ..., 0, 0, 0],\n",
       "        [0, 0, 0, ..., 0, 0, 0]], dtype=int64)"
      ]
     },
     "execution_count": 15,
     "metadata": {},
     "output_type": "execute_result"
    }
   ],
   "source": [
    "cv = CountVectorizer(tokenizer=lambda x: x.split(','), max_features=1000)\n",
    "X = cv.fit_transform(df['repo'])\n",
    "X.todense()[:5]"
   ]
  },
  {
   "cell_type": "code",
   "execution_count": 16,
   "metadata": {},
   "outputs": [],
   "source": [
    "nn = NearestNeighbors(n_neighbors=10)"
   ]
  },
  {
   "cell_type": "code",
   "execution_count": 17,
   "metadata": {},
   "outputs": [
    {
     "data": {
      "text/plain": [
       "array([[106,  14,  99,  48,  65,   3,  10,  19,   2,  40],\n",
       "       [ 14,  66,  99,  10,  19,  65,  48,   3,  40,  12],\n",
       "       [ 10,  19,   3,  99,  48,  14,  65,  40,  66,  92],\n",
       "       [ 48,  10,  99,  19,  14,  65,   2,  40,  92,  72],\n",
       "       [ 28,  10,  48,  72,  20,  19,  99,  14,  65,   3]])"
      ]
     },
     "execution_count": 17,
     "metadata": {},
     "output_type": "execute_result"
    }
   ],
   "source": [
    "nn.fit(X)\n",
    "ind = nn.kneighbors(return_distance=False)\n",
    "ind[:5]"
   ]
  },
  {
   "cell_type": "code",
   "execution_count": 18,
   "metadata": {},
   "outputs": [
    {
     "data": {
      "text/plain": [
       "array(['timothycrosley/hypothesis-auto,timothycrosley/portray,sdispater/poetry,wyounas/homer,tiangolo/fastapi,psf/black,marshmallow-code/marshmallow,falconry/falcon,cookiecutter/cookiecutter'],\n",
       "      dtype=object)"
      ]
     },
     "execution_count": 18,
     "metadata": {},
     "output_type": "execute_result"
    }
   ],
   "source": [
    "df.iloc[106].values"
   ]
  },
  {
   "cell_type": "markdown",
   "metadata": {},
   "source": [
    "#### Pickle "
   ]
  },
  {
   "cell_type": "code",
   "execution_count": 19,
   "metadata": {},
   "outputs": [],
   "source": [
    "import pickle"
   ]
  },
  {
   "cell_type": "code",
   "execution_count": 20,
   "metadata": {},
   "outputs": [
    {
     "ename": "PicklingError",
     "evalue": "Can't pickle <function NNRecommender.<lambda> at 0x11f5eab70>: attribute lookup NNRecommender.<lambda> on __main__ failed",
     "output_type": "error",
     "traceback": [
      "\u001b[0;31m---------------------------------------------------------------------------\u001b[0m",
      "\u001b[0;31mPicklingError\u001b[0m                             Traceback (most recent call last)",
      "\u001b[0;32m<ipython-input-20-c48b90b53560>\u001b[0m in \u001b[0;36m<module>\u001b[0;34m\u001b[0m\n\u001b[1;32m      1\u001b[0m \u001b[0;32mwith\u001b[0m \u001b[0mopen\u001b[0m\u001b[0;34m(\u001b[0m\u001b[0;34m'model.pkl'\u001b[0m\u001b[0;34m,\u001b[0m \u001b[0;34m'wb'\u001b[0m\u001b[0;34m)\u001b[0m \u001b[0;32mas\u001b[0m \u001b[0mf\u001b[0m\u001b[0;34m:\u001b[0m\u001b[0;34m\u001b[0m\u001b[0;34m\u001b[0m\u001b[0m\n\u001b[0;32m----> 2\u001b[0;31m     \u001b[0mpickle\u001b[0m\u001b[0;34m.\u001b[0m\u001b[0mdump\u001b[0m\u001b[0;34m(\u001b[0m\u001b[0mmodel\u001b[0m\u001b[0;34m,\u001b[0m \u001b[0mf\u001b[0m\u001b[0;34m)\u001b[0m\u001b[0;34m\u001b[0m\u001b[0;34m\u001b[0m\u001b[0m\n\u001b[0m",
      "\u001b[0;31mPicklingError\u001b[0m: Can't pickle <function NNRecommender.<lambda> at 0x11f5eab70>: attribute lookup NNRecommender.<lambda> on __main__ failed"
     ]
    }
   ],
   "source": [
    "with open('model.pkl', 'wb') as f:\n",
    "    pickle.dump(model, f)"
   ]
  },
  {
   "cell_type": "code",
   "execution_count": 21,
   "metadata": {},
   "outputs": [],
   "source": [
    "import dill # pip install dill\n",
    "\n",
    "with open('model.pkl', 'wb') as f:\n",
    "    dill.dump(model, f)\n",
    "\n",
    "del model\n",
    "\n",
    "with open('model.pkl', 'rb') as f:\n",
    "    model = dill.load(f)"
   ]
  },
  {
   "cell_type": "code",
   "execution_count": 22,
   "metadata": {},
   "outputs": [
    {
     "data": {
      "text/plain": [
       "[['sloria/TextBlob',\n",
       "  'plasticityai/supersqlite',\n",
       "  'scikit-learn/scikit-learn',\n",
       "  'shengqiangzhang/examples-of-web-crawlers',\n",
       "  'Avik-Jain/100-Days-Of-ML-Code',\n",
       "  'minimaxir/big-list-of-naughty-strings',\n",
       "  'ytdl-org/youtube-dl',\n",
       "  'vinta/awesome-python',\n",
       "  'fastai/fastai',\n",
       "  'donnemartin/system-design-primer',\n",
       "  'mherrmann/fbs',\n",
       "  'TheAlgorithms/Python',\n",
       "  'PySimpleGUI/PySimpleGUI']]"
      ]
     },
     "execution_count": 22,
     "metadata": {},
     "output_type": "execute_result"
    }
   ],
   "source": [
    "model.predict(['streamlit/streamlit,huggingface/transformers,encode/httpx,aws/chalice,maxhumber/chart'])"
   ]
  }
 ],
 "metadata": {
  "kernelspec": {
   "display_name": "Python 3",
   "language": "python",
   "name": "python3"
  },
  "language_info": {
   "codemirror_mode": {
    "name": "ipython",
    "version": 3
   },
   "file_extension": ".py",
   "mimetype": "text/x-python",
   "name": "python",
   "nbconvert_exporter": "python",
   "pygments_lexer": "ipython3",
   "version": "3.7.3"
  }
 },
 "nbformat": 4,
 "nbformat_minor": 2
}
