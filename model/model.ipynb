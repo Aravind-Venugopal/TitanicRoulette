{
 "cells": [
  {
   "cell_type": "markdown",
   "metadata": {},
   "source": [
    "### The Data"
   ]
  },
  {
   "cell_type": "code",
   "execution_count": 1,
   "metadata": {},
   "outputs": [],
   "source": [
    "import pandas as pd"
   ]
  },
  {
   "cell_type": "code",
   "execution_count": 2,
   "metadata": {},
   "outputs": [],
   "source": [
    "df = pd.read_csv('../data/stars.csv')"
   ]
  },
  {
   "cell_type": "code",
   "execution_count": 3,
   "metadata": {},
   "outputs": [
    {
     "data": {
      "text/html": [
       "<div>\n",
       "<style scoped>\n",
       "    .dataframe tbody tr th:only-of-type {\n",
       "        vertical-align: middle;\n",
       "    }\n",
       "\n",
       "    .dataframe tbody tr th {\n",
       "        vertical-align: top;\n",
       "    }\n",
       "\n",
       "    .dataframe thead th {\n",
       "        text-align: right;\n",
       "    }\n",
       "</style>\n",
       "<table border=\"1\" class=\"dataframe\">\n",
       "  <thead>\n",
       "    <tr style=\"text-align: right;\">\n",
       "      <th></th>\n",
       "      <th>description</th>\n",
       "      <th>language</th>\n",
       "      <th>repo</th>\n",
       "      <th>stargazers</th>\n",
       "      <th>user</th>\n",
       "    </tr>\n",
       "  </thead>\n",
       "  <tbody>\n",
       "    <tr>\n",
       "      <th>8868</th>\n",
       "      <td>关于Detour App规则配置的简单介绍</td>\n",
       "      <td>NaN</td>\n",
       "      <td>iamldj/Detour</td>\n",
       "      <td>287</td>\n",
       "      <td>neilyoung2008</td>\n",
       "    </tr>\n",
       "    <tr>\n",
       "      <th>6307</th>\n",
       "      <td>Bootstrap components built with React</td>\n",
       "      <td>JavaScript</td>\n",
       "      <td>react-bootstrap/react-bootstrap</td>\n",
       "      <td>16447</td>\n",
       "      <td>pushpendrapratap</td>\n",
       "    </tr>\n",
       "    <tr>\n",
       "      <th>18371</th>\n",
       "      <td>A maintainable Python code checker for Sublime...</td>\n",
       "      <td>Python</td>\n",
       "      <td>patrys/PythonChecker</td>\n",
       "      <td>27</td>\n",
       "      <td>berlotto</td>\n",
       "    </tr>\n",
       "    <tr>\n",
       "      <th>7202</th>\n",
       "      <td>A highly customizable calendar library for And...</td>\n",
       "      <td>Kotlin</td>\n",
       "      <td>kizitonwose/CalendarView</td>\n",
       "      <td>1046</td>\n",
       "      <td>edujtm</td>\n",
       "    </tr>\n",
       "    <tr>\n",
       "      <th>19527</th>\n",
       "      <td>NaN</td>\n",
       "      <td>Makefile</td>\n",
       "      <td>crccheck/docker-postgis</td>\n",
       "      <td>2</td>\n",
       "      <td>dankeemahill</td>\n",
       "    </tr>\n",
       "  </tbody>\n",
       "</table>\n",
       "</div>"
      ],
      "text/plain": [
       "                                             description    language  \\\n",
       "8868                               关于Detour App规则配置的简单介绍         NaN   \n",
       "6307               Bootstrap components built with React  JavaScript   \n",
       "18371  A maintainable Python code checker for Sublime...      Python   \n",
       "7202   A highly customizable calendar library for And...      Kotlin   \n",
       "19527                                                NaN    Makefile   \n",
       "\n",
       "                                  repo  stargazers              user  \n",
       "8868                     iamldj/Detour         287     neilyoung2008  \n",
       "6307   react-bootstrap/react-bootstrap       16447  pushpendrapratap  \n",
       "18371             patrys/PythonChecker          27          berlotto  \n",
       "7202          kizitonwose/CalendarView        1046            edujtm  \n",
       "19527          crccheck/docker-postgis           2      dankeemahill  "
      ]
     },
     "execution_count": 3,
     "metadata": {},
     "output_type": "execute_result"
    }
   ],
   "source": [
    "df.sample(5)"
   ]
  },
  {
   "cell_type": "markdown",
   "metadata": {},
   "source": [
    "### The Cleanup"
   ]
  },
  {
   "cell_type": "code",
   "execution_count": 4,
   "metadata": {},
   "outputs": [],
   "source": [
    "df = df[df['repo'] != 'maxhumber/gazpacho']\n",
    "df = df[df.language.isin(['Python', 'Jupyter Notebook'])]\n",
    "popular = pd.DataFrame(df['repo'].value_counts())\n",
    "select_repos = popular[popular['repo'] >= 5].index.tolist()\n",
    "df = df[df['repo'].isin(select_repos)]"
   ]
  },
  {
   "cell_type": "code",
   "execution_count": 5,
   "metadata": {},
   "outputs": [
    {
     "data": {
      "text/html": [
       "<div>\n",
       "<style scoped>\n",
       "    .dataframe tbody tr th:only-of-type {\n",
       "        vertical-align: middle;\n",
       "    }\n",
       "\n",
       "    .dataframe tbody tr th {\n",
       "        vertical-align: top;\n",
       "    }\n",
       "\n",
       "    .dataframe thead th {\n",
       "        text-align: right;\n",
       "    }\n",
       "</style>\n",
       "<table border=\"1\" class=\"dataframe\">\n",
       "  <thead>\n",
       "    <tr style=\"text-align: right;\">\n",
       "      <th></th>\n",
       "      <th>description</th>\n",
       "      <th>language</th>\n",
       "      <th>repo</th>\n",
       "      <th>stargazers</th>\n",
       "      <th>user</th>\n",
       "    </tr>\n",
       "  </thead>\n",
       "  <tbody>\n",
       "    <tr>\n",
       "      <th>6500</th>\n",
       "      <td>:bookmark: Browser-independent bookmark manager</td>\n",
       "      <td>Python</td>\n",
       "      <td>jarun/Buku</td>\n",
       "      <td>3022</td>\n",
       "      <td>jrezzende</td>\n",
       "    </tr>\n",
       "    <tr>\n",
       "      <th>19758</th>\n",
       "      <td>Bandit is a tool designed to find common secur...</td>\n",
       "      <td>Python</td>\n",
       "      <td>PyCQA/bandit</td>\n",
       "      <td>1731</td>\n",
       "      <td>viseshrp</td>\n",
       "    </tr>\n",
       "    <tr>\n",
       "      <th>15788</th>\n",
       "      <td>DeepFaceLab is a tool that utilizes machine le...</td>\n",
       "      <td>Python</td>\n",
       "      <td>iperov/DeepFaceLab</td>\n",
       "      <td>10246</td>\n",
       "      <td>mazharul-miraz</td>\n",
       "    </tr>\n",
       "    <tr>\n",
       "      <th>6310</th>\n",
       "      <td>Deepfakes Software For All</td>\n",
       "      <td>Python</td>\n",
       "      <td>deepfakes/faceswap</td>\n",
       "      <td>26495</td>\n",
       "      <td>pushpendrapratap</td>\n",
       "    </tr>\n",
       "    <tr>\n",
       "      <th>18599</th>\n",
       "      <td>💿 Free software that works great, and also hap...</td>\n",
       "      <td>Jupyter Notebook</td>\n",
       "      <td>mahmoud/awesome-python-applications</td>\n",
       "      <td>9260</td>\n",
       "      <td>wrongpoison</td>\n",
       "    </tr>\n",
       "  </tbody>\n",
       "</table>\n",
       "</div>"
      ],
      "text/plain": [
       "                                             description          language  \\\n",
       "6500     :bookmark: Browser-independent bookmark manager            Python   \n",
       "19758  Bandit is a tool designed to find common secur...            Python   \n",
       "15788  DeepFaceLab is a tool that utilizes machine le...            Python   \n",
       "6310                          Deepfakes Software For All            Python   \n",
       "18599  💿 Free software that works great, and also hap...  Jupyter Notebook   \n",
       "\n",
       "                                      repo  stargazers              user  \n",
       "6500                            jarun/Buku        3022         jrezzende  \n",
       "19758                         PyCQA/bandit        1731          viseshrp  \n",
       "15788                   iperov/DeepFaceLab       10246    mazharul-miraz  \n",
       "6310                    deepfakes/faceswap       26495  pushpendrapratap  \n",
       "18599  mahmoud/awesome-python-applications        9260       wrongpoison  "
      ]
     },
     "execution_count": 5,
     "metadata": {},
     "output_type": "execute_result"
    }
   ],
   "source": [
    "df.sample(5)"
   ]
  },
  {
   "cell_type": "markdown",
   "metadata": {},
   "source": [
    "### The Preparation"
   ]
  },
  {
   "cell_type": "code",
   "execution_count": 6,
   "metadata": {},
   "outputs": [],
   "source": [
    "df = df.groupby(['user'])['repo'].apply(lambda x: ','.join(x))\n",
    "df = pd.DataFrame(df)"
   ]
  },
  {
   "cell_type": "code",
   "execution_count": 7,
   "metadata": {},
   "outputs": [
    {
     "data": {
      "text/html": [
       "<div>\n",
       "<style scoped>\n",
       "    .dataframe tbody tr th:only-of-type {\n",
       "        vertical-align: middle;\n",
       "    }\n",
       "\n",
       "    .dataframe tbody tr th {\n",
       "        vertical-align: top;\n",
       "    }\n",
       "\n",
       "    .dataframe thead th {\n",
       "        text-align: right;\n",
       "    }\n",
       "</style>\n",
       "<table border=\"1\" class=\"dataframe\">\n",
       "  <thead>\n",
       "    <tr style=\"text-align: right;\">\n",
       "      <th></th>\n",
       "      <th>repo</th>\n",
       "    </tr>\n",
       "    <tr>\n",
       "      <th>user</th>\n",
       "      <th></th>\n",
       "    </tr>\n",
       "  </thead>\n",
       "  <tbody>\n",
       "    <tr>\n",
       "      <th>javad94</th>\n",
       "      <td>tqdm/tqdm,alttch/rapidtables,r0x0r/pywebview,p...</td>\n",
       "    </tr>\n",
       "    <tr>\n",
       "      <th>greed2411</th>\n",
       "      <td>pytorch/captum,jarun/Buku,streamlit/streamlit,...</td>\n",
       "    </tr>\n",
       "    <tr>\n",
       "      <th>sseemayer</th>\n",
       "      <td>vaexio/vaex,huge-success/sanic,hugapi/hug,tqdm...</td>\n",
       "    </tr>\n",
       "    <tr>\n",
       "      <th>angelparras</th>\n",
       "      <td>OWASP/CheatSheetSeries,30-seconds/30-seconds-o...</td>\n",
       "    </tr>\n",
       "    <tr>\n",
       "      <th>dankeemahill</th>\n",
       "      <td>codelucas/newspaper,bisguzar/twitter-scraper,j...</td>\n",
       "    </tr>\n",
       "  </tbody>\n",
       "</table>\n",
       "</div>"
      ],
      "text/plain": [
       "                                                           repo\n",
       "user                                                           \n",
       "javad94       tqdm/tqdm,alttch/rapidtables,r0x0r/pywebview,p...\n",
       "greed2411     pytorch/captum,jarun/Buku,streamlit/streamlit,...\n",
       "sseemayer     vaexio/vaex,huge-success/sanic,hugapi/hug,tqdm...\n",
       "angelparras   OWASP/CheatSheetSeries,30-seconds/30-seconds-o...\n",
       "dankeemahill  codelucas/newspaper,bisguzar/twitter-scraper,j..."
      ]
     },
     "execution_count": 7,
     "metadata": {},
     "output_type": "execute_result"
    }
   ],
   "source": [
    "df.sample(5)"
   ]
  },
  {
   "cell_type": "markdown",
   "metadata": {},
   "source": [
    "### The Model"
   ]
  },
  {
   "cell_type": "code",
   "execution_count": 8,
   "metadata": {},
   "outputs": [],
   "source": [
    "from sklearn.feature_extraction.text import CountVectorizer\n",
    "from sklearn.neighbors import NearestNeighbors\n",
    "\n",
    "\n",
    "class NNRecommender:\n",
    "\n",
    "    def __init__(self, n_neighbors=10, max_features=1000, tokenizer=lambda x: x.split(',')):\n",
    "        self.cv = CountVectorizer(tokenizer=tokenizer, max_features=max_features)\n",
    "        self.nn = NearestNeighbors(n_neighbors=n_neighbors)\n",
    "\n",
    "    def fit(self, X):\n",
    "        self.X = X\n",
    "        X = self.cv.fit_transform(X)\n",
    "        self.nn.fit(X)\n",
    "        return self\n",
    "\n",
    "    def predict(self, X):\n",
    "        Xt = self.cv.transform(X)\n",
    "        _, neighbors = self.nn.kneighbors(Xt)\n",
    "        points = []\n",
    "        for n in neighbors:\n",
    "            repos = []\n",
    "            for ni in n:\n",
    "                r = self.X.iloc[int(ni)].split(',')\n",
    "                repos.extend(r)\n",
    "            repos = list(set(repos))\n",
    "            points.append(repos)\n",
    "        return points"
   ]
  },
  {
   "cell_type": "code",
   "execution_count": 9,
   "metadata": {},
   "outputs": [
    {
     "data": {
      "text/plain": [
       "['scikit-learn/scikit-learn',\n",
       " 'TheAlgorithms/Python',\n",
       " 'plasticityai/supersqlite',\n",
       " 'minimaxir/big-list-of-naughty-strings',\n",
       " 'donnemartin/interactive-coding-challenges',\n",
       " 'donnemartin/system-design-primer',\n",
       " 'deepfakes/faceswap',\n",
       " 'fastai/fastai',\n",
       " 'sloria/TextBlob',\n",
       " 'mherrmann/fbs',\n",
       " 'shengqiangzhang/examples-of-web-crawlers',\n",
       " 'ytdl-org/youtube-dl',\n",
       " 'PySimpleGUI/PySimpleGUI']"
      ]
     },
     "execution_count": 9,
     "metadata": {},
     "output_type": "execute_result"
    }
   ],
   "source": [
    "model = NNRecommender()\n",
    "model.fit(df['repo'])\n",
    "model.predict(df['repo'])[14]"
   ]
  },
  {
   "cell_type": "markdown",
   "metadata": {},
   "source": [
    "### Under the Hood"
   ]
  },
  {
   "cell_type": "code",
   "execution_count": 10,
   "metadata": {},
   "outputs": [
    {
     "data": {
      "text/plain": [
       "matrix([[0, 0, 0, ..., 0, 0, 0],\n",
       "        [0, 0, 0, ..., 1, 1, 0],\n",
       "        [0, 0, 0, ..., 0, 0, 0],\n",
       "        [0, 0, 0, ..., 0, 0, 0],\n",
       "        [0, 0, 0, ..., 0, 0, 0]], dtype=int64)"
      ]
     },
     "execution_count": 10,
     "metadata": {},
     "output_type": "execute_result"
    }
   ],
   "source": [
    "cv = CountVectorizer(tokenizer=lambda x: x.split(','), max_features=1000)\n",
    "X = cv.fit_transform(df['repo'])\n",
    "X.todense()[:5]"
   ]
  },
  {
   "cell_type": "code",
   "execution_count": 11,
   "metadata": {},
   "outputs": [],
   "source": [
    "nn = NearestNeighbors(n_neighbors=10)"
   ]
  },
  {
   "cell_type": "code",
   "execution_count": 12,
   "metadata": {},
   "outputs": [
    {
     "data": {
      "text/plain": [
       "array([[106,  14,  99,  48,  65,   3,  10,  19,   2,  40],\n",
       "       [ 14,  66,  99,  10,  19,  65,  48,   3,  40,  12],\n",
       "       [ 10,  19,   3,  99,  48,  14,  65,  40,  66,  92],\n",
       "       [ 48,  10,  99,  19,  14,  65,   2,  40,  92,  72],\n",
       "       [ 28,  10,  48,  72,  20,  19,  99,  14,  65,   3]])"
      ]
     },
     "execution_count": 12,
     "metadata": {},
     "output_type": "execute_result"
    }
   ],
   "source": [
    "nn.fit(X)\n",
    "dist, ind = nn.kneighbors()\n",
    "ind[:5]"
   ]
  },
  {
   "cell_type": "markdown",
   "metadata": {},
   "source": [
    "#### Pickle "
   ]
  },
  {
   "cell_type": "code",
   "execution_count": 13,
   "metadata": {},
   "outputs": [],
   "source": [
    "import pickle"
   ]
  },
  {
   "cell_type": "code",
   "execution_count": 14,
   "metadata": {},
   "outputs": [
    {
     "ename": "PicklingError",
     "evalue": "Can't pickle <function NNRecommender.<lambda> at 0x11b292f28>: attribute lookup NNRecommender.<lambda> on __main__ failed",
     "output_type": "error",
     "traceback": [
      "\u001b[0;31m---------------------------------------------------------------------------\u001b[0m",
      "\u001b[0;31mPicklingError\u001b[0m                             Traceback (most recent call last)",
      "\u001b[0;32m<ipython-input-14-c48b90b53560>\u001b[0m in \u001b[0;36m<module>\u001b[0;34m\u001b[0m\n\u001b[1;32m      1\u001b[0m \u001b[0;32mwith\u001b[0m \u001b[0mopen\u001b[0m\u001b[0;34m(\u001b[0m\u001b[0;34m'model.pkl'\u001b[0m\u001b[0;34m,\u001b[0m \u001b[0;34m'wb'\u001b[0m\u001b[0;34m)\u001b[0m \u001b[0;32mas\u001b[0m \u001b[0mf\u001b[0m\u001b[0;34m:\u001b[0m\u001b[0;34m\u001b[0m\u001b[0;34m\u001b[0m\u001b[0m\n\u001b[0;32m----> 2\u001b[0;31m     \u001b[0mpickle\u001b[0m\u001b[0;34m.\u001b[0m\u001b[0mdump\u001b[0m\u001b[0;34m(\u001b[0m\u001b[0mmodel\u001b[0m\u001b[0;34m,\u001b[0m \u001b[0mf\u001b[0m\u001b[0;34m)\u001b[0m\u001b[0;34m\u001b[0m\u001b[0;34m\u001b[0m\u001b[0m\n\u001b[0m",
      "\u001b[0;31mPicklingError\u001b[0m: Can't pickle <function NNRecommender.<lambda> at 0x11b292f28>: attribute lookup NNRecommender.<lambda> on __main__ failed"
     ]
    }
   ],
   "source": [
    "with open('model.pkl', 'wb') as f:\n",
    "    pickle.dump(model, f)"
   ]
  },
  {
   "cell_type": "code",
   "execution_count": 15,
   "metadata": {},
   "outputs": [],
   "source": [
    "import dill # pip install dill\n",
    "\n",
    "with open('model.pkl', 'wb') as f:\n",
    "    dill.dump(model, f)\n",
    "\n",
    "del model\n",
    "\n",
    "with open('model.pkl', 'rb') as f:\n",
    "    model = dill.load(f)"
   ]
  },
  {
   "cell_type": "code",
   "execution_count": 16,
   "metadata": {},
   "outputs": [
    {
     "data": {
      "text/plain": [
       "['scikit-learn/scikit-learn',\n",
       " 'TheAlgorithms/Python',\n",
       " 'plasticityai/supersqlite',\n",
       " 'minimaxir/big-list-of-naughty-strings',\n",
       " 'donnemartin/interactive-coding-challenges',\n",
       " 'donnemartin/system-design-primer',\n",
       " 'deepfakes/faceswap',\n",
       " 'fastai/fastai',\n",
       " 'sloria/TextBlob',\n",
       " 'mherrmann/fbs',\n",
       " 'shengqiangzhang/examples-of-web-crawlers',\n",
       " 'ytdl-org/youtube-dl',\n",
       " 'PySimpleGUI/PySimpleGUI']"
      ]
     },
     "execution_count": 16,
     "metadata": {},
     "output_type": "execute_result"
    }
   ],
   "source": [
    "model.predict(df['repo'])[14]"
   ]
  },
  {
   "cell_type": "code",
   "execution_count": 17,
   "metadata": {},
   "outputs": [
    {
     "data": {
      "text/plain": [
       "[['scikit-learn/scikit-learn',\n",
       "  'TheAlgorithms/Python',\n",
       "  'plasticityai/supersqlite',\n",
       "  'minimaxir/big-list-of-naughty-strings',\n",
       "  'Avik-Jain/100-Days-Of-ML-Code',\n",
       "  'donnemartin/system-design-primer',\n",
       "  'vinta/awesome-python',\n",
       "  'fastai/fastai',\n",
       "  'sloria/TextBlob',\n",
       "  'mherrmann/fbs',\n",
       "  'shengqiangzhang/examples-of-web-crawlers',\n",
       "  'ytdl-org/youtube-dl',\n",
       "  'PySimpleGUI/PySimpleGUI']]"
      ]
     },
     "execution_count": 17,
     "metadata": {},
     "output_type": "execute_result"
    }
   ],
   "source": [
    "model.predict(['streamlit/streamlit,huggingface/transformers,encode/httpx,aws/chalice,maxhumber/chart'])"
   ]
  }
 ],
 "metadata": {
  "kernelspec": {
   "display_name": "Python 3",
   "language": "python",
   "name": "python3"
  },
  "language_info": {
   "codemirror_mode": {
    "name": "ipython",
    "version": 3
   },
   "file_extension": ".py",
   "mimetype": "text/x-python",
   "name": "python",
   "nbconvert_exporter": "python",
   "pygments_lexer": "ipython3",
   "version": "3.7.3"
  }
 },
 "nbformat": 4,
 "nbformat_minor": 2
}
