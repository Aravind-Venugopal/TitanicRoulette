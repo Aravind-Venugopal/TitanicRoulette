{
  "cells": [
    {
      "cell_type": "code",
      "source": [
        "from sklearn.feature_extraction.text import CountVectorizer\n",
        "from sklearn.neighbors import NearestNeighbors\n",
        "import pandas as pd\n",
        "import dill\n",
        "\n",
        "import mummify"
      ],
      "outputs": [],
      "execution_count": 1,
      "metadata": {}
    },
    {
      "cell_type": "markdown",
      "source": [
        "#### Data"
      ],
      "metadata": {}
    },
    {
      "cell_type": "code",
      "source": [
        "df = pd.read_csv('../data/stars.csv')\n",
        "df = df[df['repo'] != 'maxhumber/gazpacho']\n",
        "df = df[df.language.isin(['Python', 'Jupyter Notebook'])]\n",
        "popular = pd.DataFrame(df['repo'].value_counts())\n",
        "select_repos = popular[popular['repo'] >= 5].index.tolist()\n",
        "df = df[df['repo'].isin(select_repos)]\n",
        "df = df.groupby(['user'])['repo'].apply(lambda x: ','.join(x))\n",
        "df = pd.DataFrame(df)"
      ],
      "outputs": [],
      "execution_count": 2,
      "metadata": {}
    },
    {
      "cell_type": "markdown",
      "source": [
        "#### Model"
      ],
      "metadata": {}
    },
    {
      "cell_type": "code",
      "source": [
        "class NNRecommender:\n",
        "    def __init__(self, n_neighbors=10, max_features=1000, tokenizer=lambda x: x.split(\",\")):\n",
        "        self.cv = CountVectorizer(tokenizer=tokenizer, max_features=max_features)\n",
        "        self.nn = NearestNeighbors(n_neighbors=n_neighbors)\n",
        "\n",
        "    def fit(self, X):\n",
        "        self.X = X\n",
        "        X = self.cv.fit_transform(X)\n",
        "        self.nn.fit(X)\n",
        "        return self\n",
        "\n",
        "    def predict(self, X):\n",
        "        Xp = []\n",
        "        for Xi in X:\n",
        "            Xt = self.cv.transform([Xi])\n",
        "            _, neighbors = self.nn.kneighbors(Xt)\n",
        "            repos = []\n",
        "            for n in neighbors[0]:\n",
        "                r = self.X.iloc[int(n)].split(\",\")\n",
        "                repos.extend(r)\n",
        "            repos = list(set(repos))\n",
        "            repos = [r for r in repos if r not in Xi.split(\",\")]\n",
        "            Xp.append(repos)\n",
        "        return Xp"
      ],
      "outputs": [],
      "execution_count": 3,
      "metadata": {}
    },
    {
      "cell_type": "code",
      "source": [
        "n_neighbors = 5\n",
        "max_features = 300\n",
        "\n",
        "model = NNRecommender(n_neighbors, max_features)\n",
        "model.fit(df['repo'])\n",
        "\n",
        "with open('model.pkl', 'wb') as f:\n",
        "    dill.dump(model, f)"
      ],
      "outputs": [],
      "execution_count": 4,
      "metadata": {}
    },
    {
      "cell_type": "code",
      "source": [
        "mummify.log(f'')"
      ],
      "outputs": [],
      "execution_count": null,
      "metadata": {}
    }
  ],
  "metadata": {
    "kernelspec": {
      "name": "python3",
      "language": "python",
      "display_name": "Python 3"
    },
    "language_info": {
      "name": "python",
      "version": "3.7.3",
      "mimetype": "text/x-python",
      "codemirror_mode": {
        "name": "ipython",
        "version": 3
      },
      "pygments_lexer": "ipython3",
      "nbconvert_exporter": "python",
      "file_extension": ".py"
    },
    "kernel_info": {
      "name": "python3"
    },
    "nteract": {
      "version": "0.15.0"
    }
  },
  "nbformat": 4,
  "nbformat_minor": 2
}