{
 "cells": [
  {
   "cell_type": "markdown",
   "metadata": {},
   "source": [
    "### The Data"
   ]
  },
  {
   "cell_type": "code",
   "execution_count": 1,
   "metadata": {},
   "outputs": [],
   "source": [
    "import pandas as pd"
   ]
  },
  {
   "cell_type": "code",
   "execution_count": 2,
   "metadata": {},
   "outputs": [],
   "source": [
    "df = pd.read_csv('../data/stars.csv')"
   ]
  },
  {
   "cell_type": "code",
   "execution_count": 3,
   "metadata": {},
   "outputs": [
    {
     "data": {
      "text/html": [
       "<div>\n",
       "<style scoped>\n",
       "    .dataframe tbody tr th:only-of-type {\n",
       "        vertical-align: middle;\n",
       "    }\n",
       "\n",
       "    .dataframe tbody tr th {\n",
       "        vertical-align: top;\n",
       "    }\n",
       "\n",
       "    .dataframe thead th {\n",
       "        text-align: right;\n",
       "    }\n",
       "</style>\n",
       "<table border=\"1\" class=\"dataframe\">\n",
       "  <thead>\n",
       "    <tr style=\"text-align: right;\">\n",
       "      <th></th>\n",
       "      <th>description</th>\n",
       "      <th>language</th>\n",
       "      <th>repo</th>\n",
       "      <th>stargazers</th>\n",
       "      <th>user</th>\n",
       "    </tr>\n",
       "  </thead>\n",
       "  <tbody>\n",
       "    <tr>\n",
       "      <th>11993</th>\n",
       "      <td>A PHP Blogging Platform. Simple and Powerful.</td>\n",
       "      <td>PHP</td>\n",
       "      <td>typecho/typecho</td>\n",
       "      <td>6099</td>\n",
       "      <td>covein</td>\n",
       "    </tr>\n",
       "    <tr>\n",
       "      <th>7107</th>\n",
       "      <td>Idiomatic statistical operators for Kotlin</td>\n",
       "      <td>Kotlin</td>\n",
       "      <td>thomasnield/kotlin-statistics</td>\n",
       "      <td>634</td>\n",
       "      <td>edujtm</td>\n",
       "    </tr>\n",
       "    <tr>\n",
       "      <th>16600</th>\n",
       "      <td>NaN</td>\n",
       "      <td>Python</td>\n",
       "      <td>TristenHarr/MyPyBuilder</td>\n",
       "      <td>157</td>\n",
       "      <td>tones7778</td>\n",
       "    </tr>\n",
       "    <tr>\n",
       "      <th>6794</th>\n",
       "      <td>Basic messaging service in python</td>\n",
       "      <td>Python</td>\n",
       "      <td>zappala/messaging-service-python</td>\n",
       "      <td>6</td>\n",
       "      <td>DahlitzFlorian</td>\n",
       "    </tr>\n",
       "    <tr>\n",
       "      <th>902</th>\n",
       "      <td>A standard library for microservices.</td>\n",
       "      <td>Go</td>\n",
       "      <td>go-kit/kit</td>\n",
       "      <td>15067</td>\n",
       "      <td>enzoftware</td>\n",
       "    </tr>\n",
       "  </tbody>\n",
       "</table>\n",
       "</div>"
      ],
      "text/plain": [
       "                                         description language  \\\n",
       "11993  A PHP Blogging Platform. Simple and Powerful.      PHP   \n",
       "7107      Idiomatic statistical operators for Kotlin   Kotlin   \n",
       "16600                                            NaN   Python   \n",
       "6794               Basic messaging service in python   Python   \n",
       "902            A standard library for microservices.       Go   \n",
       "\n",
       "                                   repo  stargazers            user  \n",
       "11993                   typecho/typecho        6099          covein  \n",
       "7107      thomasnield/kotlin-statistics         634          edujtm  \n",
       "16600           TristenHarr/MyPyBuilder         157       tones7778  \n",
       "6794   zappala/messaging-service-python           6  DahlitzFlorian  \n",
       "902                          go-kit/kit       15067      enzoftware  "
      ]
     },
     "execution_count": 3,
     "metadata": {},
     "output_type": "execute_result"
    }
   ],
   "source": [
    "df.sample(5)"
   ]
  },
  {
   "cell_type": "markdown",
   "metadata": {},
   "source": [
    "### The Cleanup"
   ]
  },
  {
   "cell_type": "code",
   "execution_count": 4,
   "metadata": {},
   "outputs": [],
   "source": [
    "df = df[df['repo'] != 'maxhumber/gazpacho']\n",
    "df = df[df.language.isin(['Python', 'Jupyter Notebook'])]\n",
    "popular = pd.DataFrame(df['repo'].value_counts())\n",
    "select_repos = popular[popular['repo'] >= 5].index.tolist()\n",
    "df = df[df['repo'].isin(select_repos)]"
   ]
  },
  {
   "cell_type": "code",
   "execution_count": 5,
   "metadata": {},
   "outputs": [
    {
     "data": {
      "text/html": [
       "<div>\n",
       "<style scoped>\n",
       "    .dataframe tbody tr th:only-of-type {\n",
       "        vertical-align: middle;\n",
       "    }\n",
       "\n",
       "    .dataframe tbody tr th {\n",
       "        vertical-align: top;\n",
       "    }\n",
       "\n",
       "    .dataframe thead th {\n",
       "        text-align: right;\n",
       "    }\n",
       "</style>\n",
       "<table border=\"1\" class=\"dataframe\">\n",
       "  <thead>\n",
       "    <tr style=\"text-align: right;\">\n",
       "      <th></th>\n",
       "      <th>description</th>\n",
       "      <th>language</th>\n",
       "      <th>repo</th>\n",
       "      <th>stargazers</th>\n",
       "      <th>user</th>\n",
       "    </tr>\n",
       "  </thead>\n",
       "  <tbody>\n",
       "    <tr>\n",
       "      <th>12458</th>\n",
       "      <td>Parallel computing with task scheduling</td>\n",
       "      <td>Python</td>\n",
       "      <td>dask/dask</td>\n",
       "      <td>5688</td>\n",
       "      <td>jamiehall007</td>\n",
       "    </tr>\n",
       "    <tr>\n",
       "      <th>12520</th>\n",
       "      <td>Python 3.7 program to search Library Genesis v...</td>\n",
       "      <td>Python</td>\n",
       "      <td>xSetrox/pytextbooks</td>\n",
       "      <td>32</td>\n",
       "      <td>greed2411</td>\n",
       "    </tr>\n",
       "    <tr>\n",
       "      <th>18399</th>\n",
       "      <td>A curated list of awesome Python frameworks, l...</td>\n",
       "      <td>Python</td>\n",
       "      <td>vinta/awesome-python</td>\n",
       "      <td>74026</td>\n",
       "      <td>berlotto</td>\n",
       "    </tr>\n",
       "    <tr>\n",
       "      <th>13618</th>\n",
       "      <td>Glances an Eye on your system. A top/htop alte...</td>\n",
       "      <td>Python</td>\n",
       "      <td>nicolargo/glances</td>\n",
       "      <td>14294</td>\n",
       "      <td>simms21</td>\n",
       "    </tr>\n",
       "    <tr>\n",
       "      <th>2098</th>\n",
       "      <td>The pytest framework makes it easy to write sm...</td>\n",
       "      <td>Python</td>\n",
       "      <td>pytest-dev/pytest</td>\n",
       "      <td>4924</td>\n",
       "      <td>stribny</td>\n",
       "    </tr>\n",
       "  </tbody>\n",
       "</table>\n",
       "</div>"
      ],
      "text/plain": [
       "                                             description language  \\\n",
       "12458            Parallel computing with task scheduling   Python   \n",
       "12520  Python 3.7 program to search Library Genesis v...   Python   \n",
       "18399  A curated list of awesome Python frameworks, l...   Python   \n",
       "13618  Glances an Eye on your system. A top/htop alte...   Python   \n",
       "2098   The pytest framework makes it easy to write sm...   Python   \n",
       "\n",
       "                       repo  stargazers          user  \n",
       "12458             dask/dask        5688  jamiehall007  \n",
       "12520   xSetrox/pytextbooks          32     greed2411  \n",
       "18399  vinta/awesome-python       74026      berlotto  \n",
       "13618     nicolargo/glances       14294       simms21  \n",
       "2098      pytest-dev/pytest        4924       stribny  "
      ]
     },
     "execution_count": 5,
     "metadata": {},
     "output_type": "execute_result"
    }
   ],
   "source": [
    "df.sample(5)"
   ]
  },
  {
   "cell_type": "markdown",
   "metadata": {},
   "source": [
    "### The Preparation"
   ]
  },
  {
   "cell_type": "code",
   "execution_count": 6,
   "metadata": {},
   "outputs": [],
   "source": [
    "df = df.groupby(['user'])['repo'].apply(lambda x: ','.join(x))\n",
    "df = pd.DataFrame(df)"
   ]
  },
  {
   "cell_type": "code",
   "execution_count": 7,
   "metadata": {},
   "outputs": [
    {
     "data": {
      "text/html": [
       "<div>\n",
       "<style scoped>\n",
       "    .dataframe tbody tr th:only-of-type {\n",
       "        vertical-align: middle;\n",
       "    }\n",
       "\n",
       "    .dataframe tbody tr th {\n",
       "        vertical-align: top;\n",
       "    }\n",
       "\n",
       "    .dataframe thead th {\n",
       "        text-align: right;\n",
       "    }\n",
       "</style>\n",
       "<table border=\"1\" class=\"dataframe\">\n",
       "  <thead>\n",
       "    <tr style=\"text-align: right;\">\n",
       "      <th></th>\n",
       "      <th>repo</th>\n",
       "    </tr>\n",
       "    <tr>\n",
       "      <th>user</th>\n",
       "      <th></th>\n",
       "    </tr>\n",
       "  </thead>\n",
       "  <tbody>\n",
       "    <tr>\n",
       "      <th>BudSun</th>\n",
       "      <td>30-seconds/30-seconds-of-python,jackfrued/Pyth...</td>\n",
       "    </tr>\n",
       "    <tr>\n",
       "      <th>checktheroads</th>\n",
       "      <td>kivy/kivy,minimaxir/big-list-of-naughty-string...</td>\n",
       "    </tr>\n",
       "    <tr>\n",
       "      <th>iannil</th>\n",
       "      <td>falconry/falcon,django-oscar/django-oscar,Mise...</td>\n",
       "    </tr>\n",
       "    <tr>\n",
       "      <th>bnikanjam</th>\n",
       "      <td>pypa/pipenv,pydanny/cookiecutter-django,django...</td>\n",
       "    </tr>\n",
       "    <tr>\n",
       "      <th>fly51fly</th>\n",
       "      <td>sebst/pythonic-news,pytorch/captum,wxWidgets/P...</td>\n",
       "    </tr>\n",
       "  </tbody>\n",
       "</table>\n",
       "</div>"
      ],
      "text/plain": [
       "                                                            repo\n",
       "user                                                            \n",
       "BudSun         30-seconds/30-seconds-of-python,jackfrued/Pyth...\n",
       "checktheroads  kivy/kivy,minimaxir/big-list-of-naughty-string...\n",
       "iannil         falconry/falcon,django-oscar/django-oscar,Mise...\n",
       "bnikanjam      pypa/pipenv,pydanny/cookiecutter-django,django...\n",
       "fly51fly       sebst/pythonic-news,pytorch/captum,wxWidgets/P..."
      ]
     },
     "execution_count": 7,
     "metadata": {},
     "output_type": "execute_result"
    }
   ],
   "source": [
    "df.sample(5)"
   ]
  },
  {
   "cell_type": "markdown",
   "metadata": {},
   "source": [
    "### The Model"
   ]
  },
  {
   "cell_type": "code",
   "execution_count": 8,
   "metadata": {},
   "outputs": [],
   "source": [
    "from sklearn.feature_extraction.text import CountVectorizer\n",
    "from sklearn.neighbors import NearestNeighbors\n",
    "\n",
    "\n",
    "class NNRecommender:\n",
    "    def __init__(self, n_neighbors=10, max_features=1000, tokenizer=lambda x: x.split(\",\")):\n",
    "        self.cv = CountVectorizer(tokenizer=tokenizer, max_features=max_features)\n",
    "        self.nn = NearestNeighbors(n_neighbors=n_neighbors)\n",
    "\n",
    "    def fit(self, X):\n",
    "        self.X = X\n",
    "        X = self.cv.fit_transform(X)\n",
    "        self.nn.fit(X)\n",
    "        return self\n",
    "\n",
    "    def predict(self, X):\n",
    "        Xp = []\n",
    "        for Xi in X:\n",
    "            Xt = self.cv.transform([Xi])\n",
    "            _, neighbors = self.nn.kneighbors(Xt)\n",
    "            repos = []\n",
    "            for n in neighbors[0]:\n",
    "                r = self.X.iloc[int(n)].split(\",\")\n",
    "                repos.extend(r)\n",
    "            repos = list(set(repos))\n",
    "            repos = [r for r in repos if r not in Xi.split(\",\")]\n",
    "            Xp.append(repos)\n",
    "        return Xp"
   ]
  },
  {
   "cell_type": "code",
   "execution_count": 9,
   "metadata": {},
   "outputs": [
    {
     "data": {
      "text/plain": [
       "<__main__.NNRecommender at 0x120b6bac8>"
      ]
     },
     "execution_count": 9,
     "metadata": {},
     "output_type": "execute_result"
    }
   ],
   "source": [
    "model = NNRecommender()\n",
    "model.fit(df['repo'])"
   ]
  },
  {
   "cell_type": "code",
   "execution_count": 10,
   "metadata": {},
   "outputs": [
    {
     "data": {
      "text/plain": [
       "'CorentinJ/Real-Time-Voice-Cloning,s0md3v/goop,psf/requests,slundberg/shap,facebookresearch/pytext,practicalAI/practicalAI,Zulko/moviepy,python/mypy,ParthS007/background,keon/algorithms,google/python-fire,eriklindernoren/ML-From-Scratch,minimaxir/big-list-of-naughty-strings,pudo/dataset,nvbn/thefuck,dbcli/pgcli,faif/python-patterns,chriskiehl/Gooey'"
      ]
     },
     "execution_count": 10,
     "metadata": {},
     "output_type": "execute_result"
    }
   ],
   "source": [
    "df['repo'][42]"
   ]
  },
  {
   "cell_type": "code",
   "execution_count": 11,
   "metadata": {},
   "outputs": [
    {
     "data": {
      "text/plain": [
       "[['fastai/fastai',\n",
       "  'shengqiangzhang/examples-of-web-crawlers',\n",
       "  'Miserlou/Zappa',\n",
       "  'ageron/handson-ml2',\n",
       "  'sherlock-project/sherlock',\n",
       "  'donnemartin/interactive-coding-challenges',\n",
       "  'weskerfoot/DeleteFB',\n",
       "  'dae/anki',\n",
       "  'scikit-learn/scikit-learn',\n",
       "  'sloria/TextBlob',\n",
       "  'deepfakes/faceswap',\n",
       "  'smacke/subsync']]"
      ]
     },
     "execution_count": 11,
     "metadata": {},
     "output_type": "execute_result"
    }
   ],
   "source": [
    "model.predict([df['repo'][42]])"
   ]
  },
  {
   "cell_type": "markdown",
   "metadata": {},
   "source": [
    "### Under the Hood"
   ]
  },
  {
   "cell_type": "code",
   "execution_count": 12,
   "metadata": {},
   "outputs": [
    {
     "data": {
      "text/plain": [
       "matrix([[0, 0, 0, ..., 0, 0, 0],\n",
       "        [0, 0, 0, ..., 1, 1, 0],\n",
       "        [0, 0, 0, ..., 0, 0, 0],\n",
       "        [0, 0, 0, ..., 0, 0, 0],\n",
       "        [0, 0, 0, ..., 0, 0, 0]], dtype=int64)"
      ]
     },
     "execution_count": 12,
     "metadata": {},
     "output_type": "execute_result"
    }
   ],
   "source": [
    "cv = CountVectorizer(tokenizer=lambda x: x.split(','), max_features=1000)\n",
    "X = cv.fit_transform(df['repo'])\n",
    "X.todense()[:5]"
   ]
  },
  {
   "cell_type": "code",
   "execution_count": 13,
   "metadata": {},
   "outputs": [],
   "source": [
    "nn = NearestNeighbors(n_neighbors=10)"
   ]
  },
  {
   "cell_type": "code",
   "execution_count": 14,
   "metadata": {},
   "outputs": [
    {
     "data": {
      "text/plain": [
       "array([[106,  14,  99,  48,  65,   3,  10,  19,   2,  40],\n",
       "       [ 14,  66,  99,  10,  19,  65,  48,   3,  40,  12],\n",
       "       [ 10,  19,   3,  99,  48,  14,  65,  40,  66,  92],\n",
       "       [ 48,  10,  99,  19,  14,  65,   2,  40,  92,  72],\n",
       "       [ 28,  10,  48,  72,  20,  19,  99,  14,  65,   3]])"
      ]
     },
     "execution_count": 14,
     "metadata": {},
     "output_type": "execute_result"
    }
   ],
   "source": [
    "nn.fit(X)\n",
    "dist, ind = nn.kneighbors()\n",
    "ind[:5]"
   ]
  },
  {
   "cell_type": "markdown",
   "metadata": {},
   "source": [
    "#### Pickle "
   ]
  },
  {
   "cell_type": "code",
   "execution_count": 15,
   "metadata": {},
   "outputs": [],
   "source": [
    "import pickle"
   ]
  },
  {
   "cell_type": "code",
   "execution_count": 16,
   "metadata": {},
   "outputs": [
    {
     "ename": "PicklingError",
     "evalue": "Can't pickle <function NNRecommender.<lambda> at 0x121f351e0>: attribute lookup NNRecommender.<lambda> on __main__ failed",
     "output_type": "error",
     "traceback": [
      "\u001b[0;31m---------------------------------------------------------------------------\u001b[0m",
      "\u001b[0;31mPicklingError\u001b[0m                             Traceback (most recent call last)",
      "\u001b[0;32m<ipython-input-16-c48b90b53560>\u001b[0m in \u001b[0;36m<module>\u001b[0;34m\u001b[0m\n\u001b[1;32m      1\u001b[0m \u001b[0;32mwith\u001b[0m \u001b[0mopen\u001b[0m\u001b[0;34m(\u001b[0m\u001b[0;34m'model.pkl'\u001b[0m\u001b[0;34m,\u001b[0m \u001b[0;34m'wb'\u001b[0m\u001b[0;34m)\u001b[0m \u001b[0;32mas\u001b[0m \u001b[0mf\u001b[0m\u001b[0;34m:\u001b[0m\u001b[0;34m\u001b[0m\u001b[0;34m\u001b[0m\u001b[0m\n\u001b[0;32m----> 2\u001b[0;31m     \u001b[0mpickle\u001b[0m\u001b[0;34m.\u001b[0m\u001b[0mdump\u001b[0m\u001b[0;34m(\u001b[0m\u001b[0mmodel\u001b[0m\u001b[0;34m,\u001b[0m \u001b[0mf\u001b[0m\u001b[0;34m)\u001b[0m\u001b[0;34m\u001b[0m\u001b[0;34m\u001b[0m\u001b[0m\n\u001b[0m",
      "\u001b[0;31mPicklingError\u001b[0m: Can't pickle <function NNRecommender.<lambda> at 0x121f351e0>: attribute lookup NNRecommender.<lambda> on __main__ failed"
     ]
    }
   ],
   "source": [
    "with open('model.pkl', 'wb') as f:\n",
    "    pickle.dump(model, f)"
   ]
  },
  {
   "cell_type": "code",
   "execution_count": 17,
   "metadata": {},
   "outputs": [],
   "source": [
    "import dill # pip install dill\n",
    "\n",
    "with open('model.pkl', 'wb') as f:\n",
    "    dill.dump(model, f)\n",
    "\n",
    "del model\n",
    "\n",
    "with open('model.pkl', 'rb') as f:\n",
    "    model = dill.load(f)"
   ]
  },
  {
   "cell_type": "code",
   "execution_count": 18,
   "metadata": {},
   "outputs": [
    {
     "data": {
      "text/plain": [
       "[['shengqiangzhang/examples-of-web-crawlers',\n",
       "  'mherrmann/fbs',\n",
       "  'PySimpleGUI/PySimpleGUI',\n",
       "  'scikit-learn/scikit-learn',\n",
       "  'donnemartin/system-design-primer',\n",
       "  'fastai/fastai',\n",
       "  'sloria/TextBlob',\n",
       "  'plasticityai/supersqlite',\n",
       "  'minimaxir/big-list-of-naughty-strings',\n",
       "  'TheAlgorithms/Python',\n",
       "  'ytdl-org/youtube-dl',\n",
       "  'vinta/awesome-python',\n",
       "  'Avik-Jain/100-Days-Of-ML-Code']]"
      ]
     },
     "execution_count": 18,
     "metadata": {},
     "output_type": "execute_result"
    }
   ],
   "source": [
    "model.predict(['streamlit/streamlit,huggingface/transformers,encode/httpx,aws/chalice,maxhumber/chart'])"
   ]
  }
 ],
 "metadata": {
  "kernelspec": {
   "display_name": "Python 3",
   "language": "python",
   "name": "python3"
  },
  "language_info": {
   "codemirror_mode": {
    "name": "ipython",
    "version": 3
   },
   "file_extension": ".py",
   "mimetype": "text/x-python",
   "name": "python",
   "nbconvert_exporter": "python",
   "pygments_lexer": "ipython3",
   "version": "3.7.3"
  }
 },
 "nbformat": 4,
 "nbformat_minor": 2
}
